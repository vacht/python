{
 "cells": [
  {
   "cell_type": "code",
   "execution_count": null,
   "id": "e5be45d4",
   "metadata": {},
   "outputs": [],
   "source": [
    "#integrantes: \n",
    "#juan jose jurado\n",
    "#luciano barbosa \n",
    "#sebastian vallejo"
   ]
  },
  {
   "cell_type": "code",
   "execution_count": 2,
   "id": "b1c3fa31",
   "metadata": {},
   "outputs": [
    {
     "name": "stdout",
     "output_type": "stream",
     "text": [
      "1\n",
      "11\n",
      "111\n",
      "1111\n",
      "11111\n",
      "111111\n",
      "1111111\n",
      "11111111\n",
      "111111111\n",
      "1111111111\n",
      "11111111111\n",
      "111111111111\n",
      "1111111111111\n",
      "\n",
      "La suma total: 1234567901233\n"
     ]
    }
   ],
   "source": [
    "numero = int(input(\"Ingrese un número: \"))\n",
    "guardar = ''\n",
    "valorTotal = 0\n",
    "\n",
    "for num in range(1, numero + 1):\n",
    "    guardar = guardar + ('1' * num) + '\\n'\n",
    "    valorTotal += int('1' * num)\n",
    "\n",
    "print(guardar)\n",
    "\n",
    "if numero > 10:\n",
    "    print(\"La suma total:\", valorTotal)\n",
    "#\"ejercicio 6\""
   ]
  },
  {
   "cell_type": "code",
   "execution_count": 15,
   "metadata": {},
   "outputs": [
    {
     "name": "stdout",
     "output_type": "stream",
     "text": [
      "1\n",
      "11\n",
      "111\n",
      "1111\n",
      "11111\n",
      "111111\n",
      "1111111\n",
      "11111111\n",
      "111111111\n",
      "1111111111\n",
      "11111111111\n",
      "111111111111\n",
      "\n",
      "la suma total: 123456790122\n"
     ]
    }
   ],
   "source": [
    "numero = int(input(\"ingrese numero:\"))\n",
    "guardar=''\n",
    "valorTotal=0\n",
    "\n",
    "for num in range(1,numero+1):\n",
    "    guardar = guardar + ('1' * num) + '\\n'\n",
    "    valorTotal += int('1' * num)\n",
    "\n",
    "print(guardar)\n",
    "\n",
    "\n",
    "print(\"la suma total:\", valorTotal)\n",
    "#\"ejercicio 6\""
   ]
  },
  {
   "cell_type": "code",
   "execution_count": 1,
   "id": "e16c7544",
   "metadata": {},
   "outputs": [
    {
     "name": "stdout",
     "output_type": "stream",
     "text": [
      "1\n",
      "12\n",
      "la suma total: 13\n"
     ]
    }
   ],
   "source": [
    "numero = int(input(\"ingrese numero:\"))\n",
    "guardar=''\n",
    "valorTotal=0\n",
    "for num in range(1,numero+1):\n",
    "    guardar=guardar+str(num)\n",
    "    valorTotal=valorTotal+int(guardar)\n",
    "    print(guardar)\n",
    "\n",
    "if numero < 10:\n",
    "    print(\"la suma total:\", valorTotal)\n",
    "#\"ejercicio 5\"\n"
   ]
  },
  {
   "cell_type": "code",
   "execution_count": 4,
   "id": "52d6f9b1",
   "metadata": {},
   "outputs": [
    {
     "name": "stdout",
     "output_type": "stream",
     "text": [
      "error\n",
      "1*22=22\n",
      "2*22=44\n",
      "3*22=66\n",
      "4*22=88\n",
      "5*22=110\n",
      "6*22=132\n",
      "7*22=154\n",
      "8*22=176\n",
      "9*22=198\n",
      "10*22=220\n",
      "11*22=242\n",
      "12*22=264\n"
     ]
    }
   ],
   "source": [
    "numero=int(input('ingrese un nuemro'))\n",
    "if numero>=12:\n",
    "    print('error')\n",
    "for f in range(1,13):\n",
    "    print(str(f)+'*'+str(numero)+'='+str(f*numero))\n",
    "#ejercicio 1"
   ]
  },
  {
   "cell_type": "code",
   "execution_count": null,
   "id": "29e6fac5",
   "metadata": {},
   "outputs": [],
   "source": [
    "n=0\n",
    "si=str(input('Escriba si para continuar'))\n",
    "print(n)\n",
    "while(si=='si'):\n",
    "    si=str(input('Escriba si para continuar'))\n",
    "    if si=='si':\n",
    "        n=n+1\n",
    "        print(n*2)\n",
    "#ejercicio 2"
   ]
  },
  {
   "cell_type": "code",
   "execution_count": 2,
   "id": "51b0b2b9",
   "metadata": {},
   "outputs": [
    {
     "name": "stdout",
     "output_type": "stream",
     "text": [
      "2\n"
     ]
    }
   ],
   "source": [
    "a=1\n",
    "a2=1\n",
    "a3=a2+a\n",
    "a4=a2+a3\n",
    "def fibo(n):\n",
    "    if n <=2:\n",
    "        return 1\n",
    "    elif n > 2:\n",
    "        return fibo(n -1) + fibo(n- 2)\n",
    "    \n",
    "print(fibo(3))\n",
    "#ejercicio 3"
   ]
  },
  {
   "cell_type": "code",
   "execution_count": 1,
   "id": "6e56db2f",
   "metadata": {},
   "outputs": [
    {
     "ename": "ZeroDivisionError",
     "evalue": "float division by zero",
     "output_type": "error",
     "traceback": [
      "\u001b[1;31m---------------------------------------------------------------------------\u001b[0m",
      "\u001b[1;31mZeroDivisionError\u001b[0m                         Traceback (most recent call last)",
      "Cell \u001b[1;32mIn[1], line 8\u001b[0m\n\u001b[0;32m      5\u001b[0m     \u001b[38;5;28;01mreturn\u001b[39;00m \u001b[38;5;241m3\u001b[39m \u001b[38;5;241m*\u001b[39m n \u001b[38;5;241m*\u001b[39m side_length\n\u001b[0;32m      7\u001b[0m n_values \u001b[38;5;241m=\u001b[39m [\u001b[38;5;241m1\u001b[39m, \u001b[38;5;241m2\u001b[39m, \u001b[38;5;241m4\u001b[39m, \u001b[38;5;241m8\u001b[39m, \u001b[38;5;241m16\u001b[39m, \u001b[38;5;241m32\u001b[39m, \u001b[38;5;241m64\u001b[39m, \u001b[38;5;241m128\u001b[39m, \u001b[38;5;241m256\u001b[39m]\n\u001b[1;32m----> 8\u001b[0m perimeters \u001b[38;5;241m=\u001b[39m \u001b[43m[\u001b[49m\u001b[43mpolygon_perimeter\u001b[49m\u001b[43m(\u001b[49m\u001b[43mn\u001b[49m\u001b[43m)\u001b[49m\u001b[43m \u001b[49m\u001b[38;5;28;43;01mfor\u001b[39;49;00m\u001b[43m \u001b[49m\u001b[43mn\u001b[49m\u001b[43m \u001b[49m\u001b[38;5;129;43;01min\u001b[39;49;00m\u001b[43m \u001b[49m\u001b[43mn_values\u001b[49m\u001b[43m]\u001b[49m\n\u001b[0;32m     10\u001b[0m \u001b[38;5;28mprint\u001b[39m(\u001b[38;5;124m\"\u001b[39m\u001b[38;5;124mn\u001b[39m\u001b[38;5;130;01m\\t\u001b[39;00m\u001b[38;5;130;01m\\t\u001b[39;00m\u001b[38;5;124mPerimeter\u001b[39m\u001b[38;5;124m\"\u001b[39m)\n\u001b[0;32m     11\u001b[0m \u001b[38;5;28mprint\u001b[39m(\u001b[38;5;124m\"\u001b[39m\u001b[38;5;124m---------------------\u001b[39m\u001b[38;5;124m\"\u001b[39m)\n",
      "Cell \u001b[1;32mIn[1], line 8\u001b[0m, in \u001b[0;36m<listcomp>\u001b[1;34m(.0)\u001b[0m\n\u001b[0;32m      5\u001b[0m     \u001b[38;5;28;01mreturn\u001b[39;00m \u001b[38;5;241m3\u001b[39m \u001b[38;5;241m*\u001b[39m n \u001b[38;5;241m*\u001b[39m side_length\n\u001b[0;32m      7\u001b[0m n_values \u001b[38;5;241m=\u001b[39m [\u001b[38;5;241m1\u001b[39m, \u001b[38;5;241m2\u001b[39m, \u001b[38;5;241m4\u001b[39m, \u001b[38;5;241m8\u001b[39m, \u001b[38;5;241m16\u001b[39m, \u001b[38;5;241m32\u001b[39m, \u001b[38;5;241m64\u001b[39m, \u001b[38;5;241m128\u001b[39m, \u001b[38;5;241m256\u001b[39m]\n\u001b[1;32m----> 8\u001b[0m perimeters \u001b[38;5;241m=\u001b[39m [\u001b[43mpolygon_perimeter\u001b[49m\u001b[43m(\u001b[49m\u001b[43mn\u001b[49m\u001b[43m)\u001b[49m \u001b[38;5;28;01mfor\u001b[39;00m n \u001b[38;5;129;01min\u001b[39;00m n_values]\n\u001b[0;32m     10\u001b[0m \u001b[38;5;28mprint\u001b[39m(\u001b[38;5;124m\"\u001b[39m\u001b[38;5;124mn\u001b[39m\u001b[38;5;130;01m\\t\u001b[39;00m\u001b[38;5;130;01m\\t\u001b[39;00m\u001b[38;5;124mPerimeter\u001b[39m\u001b[38;5;124m\"\u001b[39m)\n\u001b[0;32m     11\u001b[0m \u001b[38;5;28mprint\u001b[39m(\u001b[38;5;124m\"\u001b[39m\u001b[38;5;124m---------------------\u001b[39m\u001b[38;5;124m\"\u001b[39m)\n",
      "Cell \u001b[1;32mIn[1], line 4\u001b[0m, in \u001b[0;36mpolygon_perimeter\u001b[1;34m(n)\u001b[0m\n\u001b[0;32m      3\u001b[0m \u001b[38;5;28;01mdef\u001b[39;00m \u001b[38;5;21mpolygon_perimeter\u001b[39m(n):\n\u001b[1;32m----> 4\u001b[0m     side_length \u001b[38;5;241m=\u001b[39m \u001b[43mmath\u001b[49m\u001b[38;5;241;43m.\u001b[39;49m\u001b[43msin\u001b[49m\u001b[43m(\u001b[49m\u001b[43mmath\u001b[49m\u001b[38;5;241;43m.\u001b[39;49m\u001b[43mpi\u001b[49m\u001b[43m \u001b[49m\u001b[38;5;241;43m/\u001b[39;49m\u001b[43m \u001b[49m\u001b[43mn\u001b[49m\u001b[43m)\u001b[49m\u001b[43m \u001b[49m\u001b[38;5;241;43m/\u001b[39;49m\u001b[43m \u001b[49m\u001b[43m(\u001b[49m\u001b[38;5;241;43m1\u001b[39;49m\u001b[43m \u001b[49m\u001b[38;5;241;43m+\u001b[39;49m\u001b[43m \u001b[49m\u001b[43mmath\u001b[49m\u001b[38;5;241;43m.\u001b[39;49m\u001b[43mcos\u001b[49m\u001b[43m(\u001b[49m\u001b[43mmath\u001b[49m\u001b[38;5;241;43m.\u001b[39;49m\u001b[43mpi\u001b[49m\u001b[43m \u001b[49m\u001b[38;5;241;43m/\u001b[39;49m\u001b[43m \u001b[49m\u001b[43mn\u001b[49m\u001b[43m)\u001b[49m\u001b[43m)\u001b[49m\n\u001b[0;32m      5\u001b[0m     \u001b[38;5;28;01mreturn\u001b[39;00m \u001b[38;5;241m3\u001b[39m \u001b[38;5;241m*\u001b[39m n \u001b[38;5;241m*\u001b[39m side_length\n",
      "\u001b[1;31mZeroDivisionError\u001b[0m: float division by zero"
     ]
    }
   ],
   "source": [
    "import math\n",
    "\n",
    "def polygon_perimeter(n):\n",
    "    side_length = math.sin(math.pi / n) / (1 + math.cos(math.pi / n))\n",
    "    return 3 * n * side_length\n",
    "\n",
    "n_values = [1, 2, 4, 8, 16, 32, 64, 128, 256]\n",
    "perimeters = [polygon_perimeter(n) for n in n_values]\n",
    "\n",
    "print(\"n\\t\\tPerimeter\")\n",
    "print(\"---------------------\")\n",
    "for i, p in zip(n_values, perimeters):\n",
    "    print(f\"{i}\\t\\t{p}\")"
   ]
  },
  {
   "cell_type": "code",
   "execution_count": 2,
   "id": "7b587802",
   "metadata": {},
   "outputs": [
    {
     "ename": "ZeroDivisionError",
     "evalue": "float division by zero",
     "output_type": "error",
     "traceback": [
      "\u001b[1;31m---------------------------------------------------------------------------\u001b[0m",
      "\u001b[1;31mZeroDivisionError\u001b[0m                         Traceback (most recent call last)",
      "Cell \u001b[1;32mIn[2], line 8\u001b[0m\n\u001b[0;32m      5\u001b[0m     \u001b[38;5;28;01mreturn\u001b[39;00m \u001b[38;5;241m3\u001b[39m \u001b[38;5;241m*\u001b[39m n \u001b[38;5;241m*\u001b[39m side_length\n\u001b[0;32m      7\u001b[0m n_values \u001b[38;5;241m=\u001b[39m [\u001b[38;5;241m1\u001b[39m, \u001b[38;5;241m2\u001b[39m, \u001b[38;5;241m4\u001b[39m, \u001b[38;5;241m8\u001b[39m, \u001b[38;5;241m16\u001b[39m, \u001b[38;5;241m32\u001b[39m, \u001b[38;5;241m64\u001b[39m, \u001b[38;5;241m128\u001b[39m, \u001b[38;5;241m256\u001b[39m]\n\u001b[1;32m----> 8\u001b[0m perimeters \u001b[38;5;241m=\u001b[39m \u001b[43m[\u001b[49m\u001b[43mpolygon_perimeter\u001b[49m\u001b[43m(\u001b[49m\u001b[43mn\u001b[49m\u001b[43m)\u001b[49m\u001b[43m \u001b[49m\u001b[38;5;28;43;01mfor\u001b[39;49;00m\u001b[43m \u001b[49m\u001b[43mn\u001b[49m\u001b[43m \u001b[49m\u001b[38;5;129;43;01min\u001b[39;49;00m\u001b[43m \u001b[49m\u001b[43mn_values\u001b[49m\u001b[43m]\u001b[49m\n\u001b[0;32m     10\u001b[0m \u001b[38;5;28mprint\u001b[39m(\u001b[38;5;124m\"\u001b[39m\u001b[38;5;124mn\u001b[39m\u001b[38;5;130;01m\\t\u001b[39;00m\u001b[38;5;130;01m\\t\u001b[39;00m\u001b[38;5;124mPerimeter\u001b[39m\u001b[38;5;124m\"\u001b[39m)\n\u001b[0;32m     11\u001b[0m \u001b[38;5;28mprint\u001b[39m(\u001b[38;5;124m\"\u001b[39m\u001b[38;5;124m---------------------\u001b[39m\u001b[38;5;124m\"\u001b[39m)\n",
      "Cell \u001b[1;32mIn[2], line 8\u001b[0m, in \u001b[0;36m<listcomp>\u001b[1;34m(.0)\u001b[0m\n\u001b[0;32m      5\u001b[0m     \u001b[38;5;28;01mreturn\u001b[39;00m \u001b[38;5;241m3\u001b[39m \u001b[38;5;241m*\u001b[39m n \u001b[38;5;241m*\u001b[39m side_length\n\u001b[0;32m      7\u001b[0m n_values \u001b[38;5;241m=\u001b[39m [\u001b[38;5;241m1\u001b[39m, \u001b[38;5;241m2\u001b[39m, \u001b[38;5;241m4\u001b[39m, \u001b[38;5;241m8\u001b[39m, \u001b[38;5;241m16\u001b[39m, \u001b[38;5;241m32\u001b[39m, \u001b[38;5;241m64\u001b[39m, \u001b[38;5;241m128\u001b[39m, \u001b[38;5;241m256\u001b[39m]\n\u001b[1;32m----> 8\u001b[0m perimeters \u001b[38;5;241m=\u001b[39m [\u001b[43mpolygon_perimeter\u001b[49m\u001b[43m(\u001b[49m\u001b[43mn\u001b[49m\u001b[43m)\u001b[49m \u001b[38;5;28;01mfor\u001b[39;00m n \u001b[38;5;129;01min\u001b[39;00m n_values]\n\u001b[0;32m     10\u001b[0m \u001b[38;5;28mprint\u001b[39m(\u001b[38;5;124m\"\u001b[39m\u001b[38;5;124mn\u001b[39m\u001b[38;5;130;01m\\t\u001b[39;00m\u001b[38;5;130;01m\\t\u001b[39;00m\u001b[38;5;124mPerimeter\u001b[39m\u001b[38;5;124m\"\u001b[39m)\n\u001b[0;32m     11\u001b[0m \u001b[38;5;28mprint\u001b[39m(\u001b[38;5;124m\"\u001b[39m\u001b[38;5;124m---------------------\u001b[39m\u001b[38;5;124m\"\u001b[39m)\n",
      "Cell \u001b[1;32mIn[2], line 4\u001b[0m, in \u001b[0;36mpolygon_perimeter\u001b[1;34m(n)\u001b[0m\n\u001b[0;32m      3\u001b[0m \u001b[38;5;28;01mdef\u001b[39;00m \u001b[38;5;21mpolygon_perimeter\u001b[39m(n):\n\u001b[1;32m----> 4\u001b[0m     side_length \u001b[38;5;241m=\u001b[39m \u001b[43mmath\u001b[49m\u001b[38;5;241;43m.\u001b[39;49m\u001b[43msin\u001b[49m\u001b[43m(\u001b[49m\u001b[43mmath\u001b[49m\u001b[38;5;241;43m.\u001b[39;49m\u001b[43mpi\u001b[49m\u001b[43m \u001b[49m\u001b[38;5;241;43m/\u001b[39;49m\u001b[43m \u001b[49m\u001b[43mn\u001b[49m\u001b[43m)\u001b[49m\u001b[43m \u001b[49m\u001b[38;5;241;43m/\u001b[39;49m\u001b[43m \u001b[49m\u001b[43m(\u001b[49m\u001b[38;5;241;43m1\u001b[39;49m\u001b[43m \u001b[49m\u001b[38;5;241;43m+\u001b[39;49m\u001b[43m \u001b[49m\u001b[43mmath\u001b[49m\u001b[38;5;241;43m.\u001b[39;49m\u001b[43mcos\u001b[49m\u001b[43m(\u001b[49m\u001b[43mmath\u001b[49m\u001b[38;5;241;43m.\u001b[39;49m\u001b[43mpi\u001b[49m\u001b[43m \u001b[49m\u001b[38;5;241;43m/\u001b[39;49m\u001b[43m \u001b[49m\u001b[43mn\u001b[49m\u001b[43m)\u001b[49m\u001b[43m)\u001b[49m\n\u001b[0;32m      5\u001b[0m     \u001b[38;5;28;01mreturn\u001b[39;00m \u001b[38;5;241m3\u001b[39m \u001b[38;5;241m*\u001b[39m n \u001b[38;5;241m*\u001b[39m side_length\n",
      "\u001b[1;31mZeroDivisionError\u001b[0m: float division by zero"
     ]
    }
   ],
   "source": [
    "import math\n",
    "\n",
    "def polygon_perimeter(n):\n",
    "    side_length = math.sin(math.pi / n) / (1 + math.cos(math.pi / n))\n",
    "    return 3 * n * side_length\n",
    "\n",
    "n_values = [1, 2, 4, 8, 16, 32, 64, 128, 256]\n",
    "perimeters = [polygon_perimeter(n) for n in n_values]\n",
    "\n",
    "print(\"n\\t\\tPerimeter\")\n",
    "print(\"---------------------\")\n",
    "for i, p in zip(n_values, perimeters):\n",
    "    print(f\"{i}\\t\\t{p}\")"
   ]
  },
  {
   "cell_type": "code",
   "execution_count": 1,
   "id": "c7ace497",
   "metadata": {},
   "outputs": [
    {
     "name": "stdout",
     "output_type": "stream",
     "text": [
      "Tu nota del semestre es 0.59\n",
      "Tu promedio, hola, no es suficiente. Has caído en prueba académica. Tu nota es 0.6.\n"
     ]
    }
   ],
   "source": [
    "cre1 = 4\n",
    "cre2 = 2\n",
    "cre3 = 3\n",
    "\n",
    "nom = input(\"Digite el nombre: \")\n",
    "\n",
    "materias = [str(input(\"dijite el nombre de la materia\"))]\n",
    "creditos = [cre1, cre2, cre3, cre3, cre3]\n",
    "calificaciones = []\n",
    "\n",
    "for i in range(len(materias)):\n",
    "    while True:\n",
    "        nota = float(input(f\"Digite la nota de {materias[i]}: \"))\n",
    "        if nota >= 1 and nota <= 5:\n",
    "            calificaciones.append(nota)\n",
    "            break\n",
    "        else:\n",
    "            print(\"La nota debe estar entre 1 y 5. Inténtalo de nuevo.\")\n",
    "\n",
    "notas_ponderadas = [calificaciones[i] * creditos[i] for i in range(len(calificaciones))]\n",
    "suma_creditos = sum(creditos)\n",
    "suma_notas_ponderadas = sum(notas_ponderadas)\n",
    "prom = suma_notas_ponderadas / suma_creditos\n",
    "\n",
    "print(f\"Tu nota del semestre es {prom:.2f}\")\n",
    "\n",
    "if prom < 3.0:\n",
    "    print(f\"Tu promedio, {nom}, no es suficiente. Has caído en prueba académica. Tu nota es {prom:.1f}.\")\n",
    "elif prom > 3.4:\n",
    "    print(f\"Felicitaciones {nom}, tu promedio es {prom:.2f}.\")\n",
    "else:\n",
    "    print(\"Has caído en período de prueba.\")"
   ]
  },
  {
   "cell_type": "code",
   "execution_count": 4,
   "id": "dac5e475",
   "metadata": {},
   "outputs": [
    {
     "name": "stdout",
     "output_type": "stream",
     "text": [
      "La nota debe estar entre 1 y 5. Inténtalo de nuevo.\n",
      "La nota debe estar entre 1 y 5. Inténtalo de nuevo.\n",
      "La nota debe estar entre 1 y 5. Inténtalo de nuevo.\n",
      "Tu nota del semestre es 1.00\n",
      "Tu promedio, lau, no es suficiente. Has caído en prueba académica. Tu nota es 1.0.\n"
     ]
    }
   ],
   "source": [
    "nom = input(\"Digite el nombre: \")\n",
    "\n",
    "num_materias = int(input(\"Digite la cantidad de materias que va a matricular: \"))\n",
    "materias = []\n",
    "creditos = []\n",
    "\n",
    "for i in range(num_materias):\n",
    "    materias.append(input(f\"Digite el nombre de la materia {i+1}: \"))\n",
    "    creditos.append(int(input(f\"Digite los créditos de la materia {materias[i]}: \")))\n",
    "\n",
    "calificaciones = []\n",
    "\n",
    "for i in range(len(materias)):\n",
    "    while True:\n",
    "        nota = float(input(f\"Digite la nota de {materias[i]}: \"))\n",
    "        if nota >= 1 and nota <= 5:\n",
    "            calificaciones.append(nota)\n",
    "            break\n",
    "        else:\n",
    "            print(\"La nota debe estar entre 1 y 5. Inténtalo de nuevo.\")\n",
    "\n",
    "notas_ponderadas = [calificaciones[i] * creditos[i] for i in range(len(calificaciones))]\n",
    "suma_creditos = sum(creditos)\n",
    "suma_notas_ponderadas = sum(notas_ponderadas)\n",
    "prom = suma_notas_ponderadas / suma_creditos\n",
    "\n",
    "print(f\"Tu nota del semestre es {prom:.2f}\")\n",
    "\n",
    "if prom < 3.0:\n",
    "    print(f\"Tu promedio, {nom}, no es suficiente. Has caído en prueba académica. Tu nota es {prom:.1f}.\")\n",
    "elif prom > 3.4:\n",
    "    print(f\"Felicitaciones {nom}, tu promedio es {prom:.2f}.\")\n",
    "else:\n",
    "    print(\"Has caído en período de prueba.\")\n",
    "\n"
   ]
  },
  {
   "cell_type": "code",
   "execution_count": 6,
   "id": "7c7b3e40",
   "metadata": {},
   "outputs": [
    {
     "name": "stdout",
     "output_type": "stream",
     "text": [
      "Estás fuera de la universidad.\n"
     ]
    }
   ],
   "source": [
    "nom = input(\"Digite el nombre: \")\n",
    "\n",
    "num_materias = int(input(\"Digite la cantidad de materias que va a matricular: \"))\n",
    "materias = []\n",
    "creditos = []\n",
    "calificaciones = []\n",
    "materias_perdidas = 0\n",
    "\n",
    "for i in range(num_materias):\n",
    "    materias.append(input(f\"Digite el nombre de la materia {i+1}: \"))\n",
    "    creditos.append(int(input(f\"Digite los créditos de la materia {materias[i]}: \")))\n",
    "\n",
    "for i in range(len(materias)):\n",
    "    while True:\n",
    "        nota = float(input(f\"Digite la nota de {materias[i]}: \"))\n",
    "        if nota >= 1 and nota <= 5:\n",
    "            calificaciones.append(nota)\n",
    "            if nota < 3.0:\n",
    "                materias_perdidas += 1\n",
    "            break\n",
    "        else:\n",
    "            print(\"La nota debe estar entre 1 y 5. Inténtalo de nuevo.\")\n",
    "\n",
    "if materias_perdidas > 3:\n",
    "    print(\"Estás fuera de la universidad.\")\n",
    "else:\n",
    "    notas_ponderadas = [calificaciones[i] * creditos[i] for i in range(len(calificaciones))]\n",
    "    suma_creditos = sum(creditos)\n",
    "    suma_notas_ponderadas = sum(notas_ponderadas)\n",
    "    prom = suma_notas_ponderadas / suma_creditos\n",
    "\n",
    "    print(f\"Tu nota del semestre es {prom:.2f}\")\n",
    "\n",
    "    if prom < 3.0:\n",
    "        print(f\"Tu promedio, {nom}, no es suficiente. Has caído en prueba académica. Tu nota es {prom:.1f}.\")\n",
    "    elif prom > 3.4:\n",
    "        print(f\"Felicitaciones {nom}, tu promedio es {prom:.2f}.\")\n",
    "    else:\n",
    "        print(\"Has caído en período de prueba.\")\n"
   ]
  },
  {
   "cell_type": "code",
   "execution_count": 2,
   "id": "4bdd83db",
   "metadata": {},
   "outputs": [],
   "source": [
    "def calcular_calificacion(nota_parcial1, nota_parcial2, nota_proyecto, nota_final):\n",
    "    # Ponderaciones específicas\n",
    "    ponderacion_parcial1 = 0.2\n",
    "    ponderacion_parcial2 = 0.1\n",
    "    ponderacion_proyecto = 0.3\n",
    "    ponderacion_final = 0.4\n",
    "\n",
    "    # Calcular la calificación general\n",
    "    calificacion = (nota_parcial1 * ponderacion_parcial1 +\n",
    "                    nota_parcial2 * ponderacion_parcial2 +\n",
    "                    nota_proyecto * ponderacion_proyecto +\n",
    "                    nota_final * ponderacion_final)\n",
    "\n",
    "    return calificacion\n",
    "\n",
    "\n",
    "def ingresar_notas():\n",
    "    while True:\n",
    "        try:\n",
    "            # Ingresar notas del estudiante\n",
    "            nota_parcial1 = float(input(\"Ingrese la nota del Parcial 1 (0-6.0): \"))\n",
    "            nota_parcial2 = float(input(\"Ingrese la nota del Parcial 2 (0-6.0): \"))\n",
    "            nota_proyecto = float(input(\"Ingrese la nota del Proyecto (0-6.0): \"))\n",
    "            nota_final = float(input(\"Ingrese la nota Final (0-6.0): \"))\n",
    "\n",
    "            # Validar notas\n",
    "            if 0.0 <= nota_parcial1 <= 6.0 and 0.0 <= nota_parcial2 <= 6.0 and 0.0 <= nota_proyecto <= 6.0 and 0.0 <= nota_final <= 6.0:\n",
    "                # Calcular calificación general\n",
    "                calificacion = calcular_calificacion(nota_parcial1, nota_parcial2, nota_proyecto, nota_final)\n",
    "\n",
    "                # Mostrar la calificación del estudiante\n",
    "                print(f\"La calificación del estudiante es: {calificacion}\")\n",
    "\n",
    "                # Preguntar si desea ingresar notas para otro estudiante\n",
    "                continuar = input(\"¿Desea ingresar notas para otro estudiante? (s/n): \")\n",
    "                if continuar.lower() != 's':\n",
    "                    break\n",
    "            else:\n",
    "                print(\"Error: Las notas deben estar en el rango de 0.0 a 6.0. Intente nuevamente.\")\n",
    "        except ValueError:\n",
    "            print(\"Error: Ingrese un valor numérico válido. Intente nuevamente.\")\n",
    "\n",
    "\n",
    "def main():\n",
    "    print(\"Bienvenido al programa de gestión de calificaciones\")\n",
    "\n",
    "    # Llamar a la función para ingresar notas\n",
    "    ingresar_notas()\n",
    "\n",
    "    print(\"¡Gracias por usar el programa!\")\n",
    "\n",
    "\n",
    "if __name__ == \"__main__\":\n",
    "    main()\n"
   ]
  },
  {
   "cell_type": "code",
   "execution_count": 3,
   "id": "c5dfb5bf",
   "metadata": {},
   "outputs": [
    {
     "name": "stdout",
     "output_type": "stream",
     "text": [
      "Bienvenido al programa de gestión de calificaciones\n",
      "La calificación del estudiante es: 3.08\n",
      "¡Gracias por usar el programa!\n"
     ]
    }
   ],
   "source": [
    "def calcular_calificacion(nota_parcial1, nota_parcial2, nota_proyecto, nota_final):\n",
    "    # Ponderaciones específicas\n",
    "    ponderacion_parcial1 = 0.2\n",
    "    ponderacion_parcial2 = 0.1\n",
    "    ponderacion_proyecto = 0.3\n",
    "    ponderacion_final = 0.4\n",
    "\n",
    "    # Calcular la calificación general\n",
    "    calificacion = (nota_parcial1 * ponderacion_parcial1 +\n",
    "                    nota_parcial2 * ponderacion_parcial2 +\n",
    "                    nota_proyecto * ponderacion_proyecto +\n",
    "                    nota_final * ponderacion_final)\n",
    "\n",
    "    return calificacion\n",
    "\n",
    "\n",
    "def ingresar_notas():\n",
    "    while True:\n",
    "        try:\n",
    "            # Ingresar notas del estudiante\n",
    "            nota_parcial1 = float(input(\"Ingrese la nota del Parcial 1 (0-6.0): \"))\n",
    "            nota_parcial2 = float(input(\"Ingrese la nota del Parcial 2 (0-6.0): \"))\n",
    "            nota_proyecto = float(input(\"Ingrese la nota del Proyecto (0-6.0): \"))\n",
    "            nota_final = float(input(\"Ingrese la nota Final (0-6.0): \"))\n",
    "\n",
    "            # Validar notas\n",
    "            if 0.0 <= nota_parcial1 <= 6.0 and 0.0 <= nota_parcial2 <= 6.0 and 0.0 <= nota_proyecto <= 6.0 and 0.0 <= nota_final <= 6.0:\n",
    "                # Calcular calificación general\n",
    "                calificacion = calcular_calificacion(nota_parcial1, nota_parcial2, nota_proyecto, nota_final)\n",
    "\n",
    "                # Mostrar la calificación del estudiante\n",
    "                print(f\"La calificación del estudiante es: {calificacion}\")\n",
    "\n",
    "                # Preguntar si desea ingresar notas para otro estudiante\n",
    "                continuar = input(\"¿Desea ingresar notas para otro estudiante? (s/n): \")\n",
    "                if continuar.lower() != 's':\n",
    "                    break\n",
    "            else:\n",
    "                print(\"Error: Las notas deben estar en el rango de 0.0 a 6.0. Intente nuevamente.\")\n",
    "        except ValueError:\n",
    "            print(\"Error: Ingrese un valor numérico válido. Intente nuevamente.\")\n",
    "\n",
    "\n",
    "def main():\n",
    "    print(\"Bienvenido al programa de gestión de calificaciones\")\n",
    "\n",
    "    # Llamar a la función para ingresar notas\n",
    "    ingresar_notas()\n",
    "\n",
    "    print(\"¡Gracias por usar el programa!\")\n",
    "\n",
    "# Llamar a la función main directamente\n",
    "main()\n"
   ]
  }
 ],
 "metadata": {
  "kernelspec": {
   "display_name": "Python 3.9.12 ('base')",
   "language": "python",
   "name": "python3"
  },
  "language_info": {
   "codemirror_mode": {
    "name": "ipython",
    "version": 3
   },
   "file_extension": ".py",
   "mimetype": "text/x-python",
   "name": "python",
   "nbconvert_exporter": "python",
   "pygments_lexer": "ipython3",
   "version": "3.11.0"
  },
  "vscode": {
   "interpreter": {
    "hash": "6018457a9cf31c4f12b198deda590ba24c2cc27a9da71629eaeb4f113d477133"
   }
  }
 },
 "nbformat": 4,
 "nbformat_minor": 5
}
