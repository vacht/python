{
 "cells": [
  {
   "cell_type": "code",
   "execution_count": null,
   "id": "e5be45d4",
   "metadata": {},
   "outputs": [],
   "source": [
    "#integrantes: \n",
    "#juan jose jurado\n",
    "#luciano barbosa \n",
    "#sebastian vallejo"
   ]
  },
  {
   "cell_type": "code",
   "execution_count": 4,
   "id": "52d6f9b1",
   "metadata": {},
   "outputs": [
    {
     "name": "stdout",
     "output_type": "stream",
     "text": [
      "1*6=6\n",
      "2*6=12\n",
      "3*6=18\n",
      "4*6=24\n",
      "5*6=30\n",
      "6*6=36\n",
      "7*6=42\n",
      "8*6=48\n",
      "9*6=54\n",
      "10*6=60\n",
      "11*6=66\n",
      "12*6=72\n"
     ]
    }
   ],
   "source": [
    "numero=int(input('ingrese un nuemro'))\n",
    "if numero>=12:\n",
    "    print('error')\n",
    "for f in range(1,13):\n",
    "    print(str(f)+'*'+str(numero)+'='+str(f*numero))\n",
    "#ejercicio 1"
   ]
  },
  {
   "cell_type": "code",
   "execution_count": 1,
   "id": "29e6fac5",
   "metadata": {},
   "outputs": [
    {
     "name": "stdout",
     "output_type": "stream",
     "text": [
      "0\n",
      "2\n",
      "4\n",
      "6\n",
      "8\n",
      "10\n",
      "12\n"
     ]
    }
   ],
   "source": [
    "n=0\n",
    "si=str(input('Escriba si para continuar'))\n",
    "print(n)\n",
    "while(si=='si'):\n",
    "    si=str(input('Escriba si para continuar'))\n",
    "    if si=='si':\n",
    "        n=n+1\n",
    "        print(n*2)\n",
    "#ejercicio 2"
   ]
  },
  {
   "cell_type": "code",
   "execution_count": 6,
   "id": "51b0b2b9",
   "metadata": {},
   "outputs": [
    {
     "name": "stdout",
     "output_type": "stream",
     "text": [
      "5\n"
     ]
    }
   ],
   "source": [
    "a=1\n",
    "a2=1\n",
    "a3=a2+a\n",
    "a4=a2+a3\n",
    "def fibo(n):\n",
    "    if n <=2:\n",
    "        return 1\n",
    "    elif n > 2:\n",
    "        return fibo(n -1) + fibo(n- 2)\n",
    "    \n",
    "print(fibo(5))\n",
    "#ejercicio 3"
   ]
  },
  {
   "cell_type": "code",
   "execution_count": 5,
   "metadata": {},
   "outputs": [
    {
     "name": "stdout",
     "output_type": "stream",
     "text": [
      "El número secreto es mayor.\n",
      "El número secreto es mayor.\n",
      "El número secreto es mayor.\n",
      "El número secreto es mayor.\n",
      "El número secreto es mayor.\n",
      "El número secreto es mayor.\n",
      "El número secreto es mayor.\n",
      "El número secreto es mayor.\n",
      "El número secreto es mayor.\n",
      "El número secreto es mayor.\n",
      "¡Se acabaron las oportunidades! El número secreto era 47. ¡Buena suerte la próxima vez!\n"
     ]
    }
   ],
   "source": [
    "import random\n",
    "numero_secreto = random.randint(1, 100)\n",
    "intentos = 0\n",
    "while intentos < 10:\n",
    "    try:\n",
    "        intento = int(input(\"Intento #\" + str(intentos + 1) + \": Ingrese un número: \"))\n",
    "        if intento < 1 or intento > 100:\n",
    "            print(\"Por favor, ingrese un número entre 1 y 100.\")\n",
    "            continue\n",
    "        if intento == numero_secreto:\n",
    "            print(f\"¡Felicidades! ¡Has adivinado el número secreto ({numero_secreto}) en {intentos + 1} intentos!\")\n",
    "            break\n",
    "        elif intento < numero_secreto:\n",
    "            print(\"El número secreto es mayor.\")\n",
    "        else:\n",
    "            print(\"El número secreto es menor.\")\n",
    "        intentos += 1\n",
    "    except ValueError:\n",
    "        print(\"Por favor, ingrese un número válido.\")\n",
    "else:\n",
    "    print(f\"¡Se acabaron las oportunidades! El número secreto era {numero_secreto}. ¡Buena suerte la próxima vez!\")\n",
    "#ejercicio 4"
   ]
  },
  {
   "cell_type": "code",
   "execution_count": 1,
   "id": "e16c7544",
   "metadata": {},
   "outputs": [
    {
     "name": "stdout",
     "output_type": "stream",
     "text": [
      "1\n",
      "12\n",
      "123\n",
      "1234\n",
      "la suma total: 1370\n"
     ]
    }
   ],
   "source": [
    "numero = int(input(\"ingrese numero:\"))\n",
    "guardar=''\n",
    "valorTotal=0\n",
    "for num in range(1,numero+1):\n",
    "    guardar=guardar+str(num)\n",
    "    valorTotal=valorTotal+int(guardar)\n",
    "    print(guardar)\n",
    "\n",
    "if numero < 10:\n",
    "    print(\"la suma total:\", valorTotal)\n",
    "#\"ejercicio 5\"\n"
   ]
  },
  {
   "cell_type": "code",
   "execution_count": 3,
   "id": "b1c3fa31",
   "metadata": {},
   "outputs": [
    {
     "name": "stdout",
     "output_type": "stream",
     "text": [
      "1\n",
      "11\n",
      "\n"
     ]
    }
   ],
   "source": [
    "numero = int(input(\"Ingrese un número: \"))\n",
    "guardar = ''\n",
    "valorTotal = 0\n",
    "\n",
    "for num in range(1, numero + 1):\n",
    "    guardar = guardar + ('1' * num) + '\\n'\n",
    "    valorTotal += int('1' * num)\n",
    "\n",
    "print(guardar)\n",
    "\n",
    "if numero > 10:\n",
    "    print(\"La suma total:\", valorTotal)\n",
    "#\"ejercicio 6\""
   ]
  },
  {
   "cell_type": "code",
   "execution_count": 2,
   "metadata": {},
   "outputs": [
    {
     "name": "stdout",
     "output_type": "stream",
     "text": [
      "1\n",
      "11\n",
      "111\n",
      "1111\n",
      "11111\n",
      "111111\n",
      "\n",
      "la suma total: 123456\n"
     ]
    }
   ],
   "source": [
    "numero = int(input(\"ingrese numero:\"))\n",
    "guardar=''\n",
    "valorTotal=0\n",
    "\n",
    "for num in range(1,numero+1):\n",
    "    guardar = guardar + ('1' * num) + '\\n'\n",
    "    valorTotal += int('1' * num)\n",
    "\n",
    "print(guardar)\n",
    "\n",
    "\n",
    "print(\"la suma total:\", valorTotal)\n",
    "#\"ejercicio 6\""
   ]
  },
  {
   "cell_type": "code",
   "execution_count": 3,
   "id": "6e56db2f",
   "metadata": {},
   "outputs": [
    {
     "name": "stdout",
     "output_type": "stream",
     "text": [
      "4\n",
      "6\n",
      "8\n"
     ]
    }
   ],
   "source": [
    "tmin = int(input(\"Ingrese el tope minimo: \"))\n",
    "tmax = int(input(\"Ingrese el tope maximo: \"))\n",
    "dvsr = int(input(\"Ingrese el numero divisor: \"))\n",
    "for i in range(tmin, tmax + 1):\n",
    "    if i % dvsr == 0:\n",
    "        print(i)\n",
    "#ejercicio 7"
   ]
  },
  {
   "cell_type": "code",
   "execution_count": 5,
   "metadata": {},
   "outputs": [
    {
     "name": "stdout",
     "output_type": "stream",
     "text": [
      "2\n",
      "3\n",
      "5\n",
      "7\n"
     ]
    }
   ],
   "source": [
    "def es_primo(numero):\n",
    "    if numero <= 1:\n",
    "        return False\n",
    "    elif numero <= 3:\n",
    "        return True\n",
    "    elif numero % 2 == 0 or numero % 3 == 0:\n",
    "        return False\n",
    "    i = 5\n",
    "    while i * i <= numero:\n",
    "        if numero % i == 0 or numero % (i + 2) == 0:\n",
    "            return False\n",
    "        i += 6\n",
    "    return True\n",
    "\n",
    "tope_minimo = int(input(\"Ingrese el tope mínimo: \"))\n",
    "tope_maximo = int(input(\"Ingrese el tope máximo: \"))\n",
    "\n",
    "for numero in range(tope_minimo, tope_maximo + 1):\n",
    "    if es_primo(numero):\n",
    "        print(numero)\n",
    "#ejercicio 8"
   ]
  },
  {
   "cell_type": "code",
   "execution_count": 6,
   "metadata": {},
   "outputs": [
    {
     "name": "stdout",
     "output_type": "stream",
     "text": [
      "La letra A aparece  3  veces en la palabra  palabra\n",
      "La letra E aparece  0  veces en la palabra  palabra\n",
      "La letra I aparece  0  veces en la palabra  palabra\n",
      "La letra O aparece  0  veces en la palabra  palabra\n",
      "La letra U aparece  0  veces en la palabra  palabra\n"
     ]
    }
   ],
   "source": [
    "palabra=input(\"Escribe la palabra: \")\n",
    "print(\"La letra A aparece \",palabra .count(\"a\"),\" veces en la palabra \", palabra)\n",
    "print(\"La letra E aparece \",palabra .count(\"e\"),\" veces en la palabra \", palabra)\n",
    "print(\"La letra I aparece \",palabra .count(\"i\"),\" veces en la palabra \", palabra)\n",
    "print(\"La letra O aparece \",palabra .count(\"o\"),\" veces en la palabra \", palabra)\n",
    "print(\"La letra U aparece \",palabra .count(\"u\"),\" veces en la palabra \", palabra)\n",
    "#ejercicio 9"
   ]
  },
  {
   "cell_type": "code",
   "execution_count": 9,
   "metadata": {},
   "outputs": [
    {
     "name": "stdout",
     "output_type": "stream",
     "text": [
      "Cuantos meses quieres guardar?: \n",
      "Mes 1  -----------------\n",
      "Datos guardados con éxito :D\n",
      "Mes 2  -----------------\n",
      "Datos guardados con éxito :D\n",
      "Mes 3  -----------------\n",
      "Datos guardados con éxito :D\n",
      "Los datos de los  3 meses son:\n",
      " [(4, 3, 4, 3), (4, 3, 4, 3), (4, 3, 4, 3)]\n"
     ]
    }
   ],
   "source": [
    "class tmes:\n",
    "    def __init__(self, vhombres, vmujeres, nventas, dmensual):\n",
    "        self.vhombres=vhombres\n",
    "        self.vmujeres=vmujeres\n",
    "        self.nventas=nventas\n",
    "        self.dmensual=dmensual\n",
    "\n",
    "print(\"Cuantos meses quieres guardar?: \")\n",
    "mes1=int(input(\"->\"))\n",
    "mes=1\n",
    "lista=[]\n",
    "\n",
    "while mes<=mes1:\n",
    "    print(\"Mes\", mes, \" -----------------\")\n",
    "    vh=int(input(\"Cuantas ventas hicieron los hombres en el mes?: \"))\n",
    "    vm=int(input(\"Cuantas ventas hicieron las mujeres en el mes?: \"))\n",
    "    nv=int(input(\"Cuantas ventas se realizaron en total en el mes?: \"))\n",
    "    dm=int(input(\"Cuanto dinero entró a la empresa este mes?: \"))\n",
    "    tmes1=tmes(vh, vm, nv, dm)\n",
    "    final=tmes1.vhombres, tmes1.vmujeres, tmes1.nventas, tmes1.dmensual\n",
    "    lista.append(final)\n",
    "    mes+=1\n",
    "    print(\"Datos guardados con éxito :D\")\n",
    "\n",
    "print(\"Los datos de los \", mes-1, \"meses son:\\n\", lista)\n",
    "\n",
    "#ejercicio 10"
   ]
  },
  {
   "cell_type": "code",
   "execution_count": 10,
   "metadata": {},
   "outputs": [
    {
     "name": "stdout",
     "output_type": "stream",
     "text": [
      "Resultado de años  0\n",
      "Resultado de meses  0\n",
      "Resultado de dias  5\n"
     ]
    }
   ],
   "source": [
    "numero=int(input(\"Ingrese el numero \"))\n",
    "años= numero // 356\n",
    "meses= (numero % 365)//30\n",
    "diasrestantes= (numero % 365) % 30\n",
    "\n",
    "print(\"Resultado de años \",años)\n",
    "print(\"Resultado de meses \", meses)\n",
    "print(\"Resultado de dias \", diasrestantes)\n",
    "\n",
    "#ejercicio 11\n"
   ]
  }
 ],
 "metadata": {
  "kernelspec": {
   "display_name": "Python 3.9.12 ('base')",
   "language": "python",
   "name": "python3"
  },
  "language_info": {
   "codemirror_mode": {
    "name": "ipython",
    "version": 3
   },
   "file_extension": ".py",
   "mimetype": "text/x-python",
   "name": "python",
   "nbconvert_exporter": "python",
   "pygments_lexer": "ipython3",
   "version": "3.11.0"
  },
  "vscode": {
   "interpreter": {
    "hash": "6018457a9cf31c4f12b198deda590ba24c2cc27a9da71629eaeb4f113d477133"
   }
  }
 },
 "nbformat": 4,
 "nbformat_minor": 5
}
