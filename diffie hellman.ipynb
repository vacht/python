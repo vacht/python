{
 "cells": [
  {
   "cell_type": "code",
   "execution_count": 1,
   "id": "f508494d",
   "metadata": {},
   "outputs": [
    {
     "name": "stdout",
     "output_type": "stream",
     "text": [
      "Clave compartida exitosamente: 16\n"
     ]
    }
   ],
   "source": [
    "# Importar la biblioteca de números primos y generación de números aleatorios\n",
    "import random\n",
    "import sympy\n",
    "\n",
    "# Función para calcular la clave pública\n",
    "def calcular_clave_publica(base, exponente, modulo):\n",
    "    return (base ** exponente) % modulo\n",
    "\n",
    "# Parámetros compartidos entre Alice y Bob\n",
    "p = sympy.randprime(10, 50)  # Número primo aleatorio como módulo\n",
    "g = random.randint(2, p - 1)  # Generador aleatorio en el rango\n",
    "\n",
    "# Claves privadas de Alice y Bob (seleccionadas aleatoriamente)\n",
    "a_privada = random.randint(2, p - 2)\n",
    "b_privada = random.randint(2, p - 2)\n",
    "\n",
    "# Cálculo de las claves públicas de Alice y Bob\n",
    "a_publica = calcular_clave_publica(g, a_privada, p)\n",
    "b_publica = calcular_clave_publica(g, b_privada, p)\n",
    "\n",
    "# Intercambio de claves públicas\n",
    "# Alice envía su clave pública a Bob y viceversa\n",
    "\n",
    "# Cálculo de la clave compartida\n",
    "clave_compartida_alice = calcular_clave_publica(b_publica, a_privada, p)\n",
    "clave_compartida_bob = calcular_clave_publica(a_publica, b_privada, p)\n",
    "\n",
    "# Las claves compartidas deberían ser iguales\n",
    "if clave_compartida_alice == clave_compartida_bob:\n",
    "    print(\"Clave compartida exitosamente:\", clave_compartida_alice)\n",
    "else:\n",
    "    print(\"Error en el intercambio de claves\")"
   ]
  },
  {
   "cell_type": "code",
   "execution_count": 2,
   "id": "204ec21f",
   "metadata": {},
   "outputs": [
    {
     "name": "stdout",
     "output_type": "stream",
     "text": [
      "Clave compartida de Alice: 19\n",
      "Clave compartida de Bob: 8\n"
     ]
    }
   ],
   "source": [
    "# Parámetros compartidos entre Alice y Bob (supuestamente)\n",
    "p = 23  # Supuestamente un número primo compartido\n",
    "g = 5   # Supuestamente un generador compartido\n",
    "\n",
    "# Claves públicas de Alice y Bob (supuestamente)\n",
    "a_publica = 8  # Supuestamente la clave pública de Alice\n",
    "b_publica = 4  # Supuestamente la clave pública de Bob\n",
    "\n",
    "# Atacante (Eve) se interpone y captura las claves públicas\n",
    "# y reemplaza ambas con sus propias claves públicas\n",
    "a_publica = 10  # La clave pública de Alice se cambió por Eve\n",
    "b_publica = 15  # La clave pública de Bob se cambió por Eve\n",
    "\n",
    "# Alice y Bob calculan la clave compartida utilizando las claves públicas\n",
    "clave_compartida_alice = (b_publica ** a_privada) % p\n",
    "clave_compartida_bob = (a_publica ** b_privada) % p\n",
    "\n",
    "# Ahora, Alice y Bob creen que tienen una clave compartida,\n",
    "# pero en realidad están usando claves diferentes.\n",
    "print(\"Clave compartida de Alice:\", clave_compartida_alice)\n",
    "print(\"Clave compartida de Bob:\", clave_compartida_bob)\n"
   ]
  }
 ],
 "metadata": {
  "kernelspec": {
   "display_name": "Python 3.9.12 ('base')",
   "language": "python",
   "name": "python3"
  },
  "language_info": {
   "codemirror_mode": {
    "name": "ipython",
    "version": 3
   },
   "file_extension": ".py",
   "mimetype": "text/x-python",
   "name": "python",
   "nbconvert_exporter": "python",
   "pygments_lexer": "ipython3",
   "version": "3.11.0"
  },
  "vscode": {
   "interpreter": {
    "hash": "6018457a9cf31c4f12b198deda590ba24c2cc27a9da71629eaeb4f113d477133"
   }
  }
 },
 "nbformat": 4,
 "nbformat_minor": 5
}
