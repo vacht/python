{
 "cells": [
  {
   "cell_type": "code",
   "execution_count": 1,
   "id": "e3f77164",
   "metadata": {},
   "outputs": [
    {
     "data": {
      "text/plain": [
       "True"
      ]
     },
     "execution_count": 1,
     "metadata": {},
     "output_type": "execute_result"
    }
   ],
   "source": [
    "x = 5\n",
    "x > 0 and x < 10"
   ]
  },
  {
   "cell_type": "code",
   "execution_count": 2,
   "id": "f6a65d8d",
   "metadata": {},
   "outputs": [
    {
     "data": {
      "text/plain": [
       "True"
      ]
     },
     "execution_count": 2,
     "metadata": {},
     "output_type": "execute_result"
    }
   ],
   "source": [
    "n = 4\n",
    "n%2 == 0 or n%3 == 0"
   ]
  },
  {
   "cell_type": "code",
   "execution_count": 3,
   "id": "308b66cc",
   "metadata": {},
   "outputs": [
    {
     "data": {
      "text/plain": [
       "True"
      ]
     },
     "execution_count": 3,
     "metadata": {},
     "output_type": "execute_result"
    }
   ],
   "source": [
    "x = 6\n",
    "y = 2\n",
    "\n",
    "x >= 2 and (x/y) > 2"
   ]
  },
  {
   "cell_type": "code",
   "execution_count": 4,
   "id": "e5e979e2",
   "metadata": {},
   "outputs": [
    {
     "data": {
      "text/plain": [
       "False"
      ]
     },
     "execution_count": 4,
     "metadata": {},
     "output_type": "execute_result"
    }
   ],
   "source": [
    "x = 1\n",
    "y = 0\n",
    "\n",
    "x >= 2 and (x/y) > 2"
   ]
  },
  {
   "cell_type": "code",
   "execution_count": 22,
   "id": "b59769d4",
   "metadata": {},
   "outputs": [
    {
     "ename": "ZeroDivisionError",
     "evalue": "division by zero",
     "output_type": "error",
     "traceback": [
      "\u001b[1;31m---------------------------------------------------------------------------\u001b[0m",
      "\u001b[1;31mZeroDivisionError\u001b[0m                         Traceback (most recent call last)",
      "Cell \u001b[1;32mIn[22], line 3\u001b[0m\n\u001b[0;32m      1\u001b[0m x \u001b[39m=\u001b[39m \u001b[39m6\u001b[39m\n\u001b[0;32m      2\u001b[0m y \u001b[39m=\u001b[39m \u001b[39m0\u001b[39m\n\u001b[1;32m----> 3\u001b[0m x \u001b[39m>\u001b[39m\u001b[39m=\u001b[39m \u001b[39m2\u001b[39m \u001b[39mand\u001b[39;00m (x\u001b[39m/\u001b[39;49my) \u001b[39m>\u001b[39m \u001b[39m2\u001b[39m\n",
      "\u001b[1;31mZeroDivisionError\u001b[0m: division by zero"
     ]
    }
   ],
   "source": [
    "x = 6\n",
    "y = 0\n",
    "x >= 2 and (x/y) > 2"
   ]
  },
  {
   "cell_type": "code",
   "execution_count": 8,
   "id": "5d78ee69",
   "metadata": {},
   "outputs": [
    {
     "data": {
      "text/plain": [
       "False"
      ]
     },
     "execution_count": 8,
     "metadata": {},
     "output_type": "execute_result"
    }
   ],
   "source": [
    "x = 1\n",
    "y = 0\n",
    "\n",
    "x >= 2 and y != 0 and (x/y) > 2"
   ]
  },
  {
   "cell_type": "code",
   "execution_count": 9,
   "id": "56c133d7",
   "metadata": {},
   "outputs": [
    {
     "data": {
      "text/plain": [
       "False"
      ]
     },
     "execution_count": 9,
     "metadata": {},
     "output_type": "execute_result"
    }
   ],
   "source": [
    "x = 6\n",
    "y = 0\n",
    "\n",
    "x >= 2 and y != 0 and (x/y) > 2"
   ]
  },
  {
   "cell_type": "code",
   "execution_count": 10,
   "id": "9c597712",
   "metadata": {},
   "outputs": [
    {
     "name": "stdout",
     "output_type": "stream",
     "text": [
      "5\n",
      "4\n",
      "3\n",
      "2\n",
      "1\n",
      "Despegue!\n"
     ]
    }
   ],
   "source": [
    "n = 5\n",
    "while n > 0:\n",
    "    print(n)\n",
    "    n = n - 1\n",
    "print(\"Despegue!\")"
   ]
  },
  {
   "cell_type": "code",
   "execution_count": 17,
   "id": "ba74653f",
   "metadata": {},
   "outputs": [
    {
     "name": "stdout",
     "output_type": "stream",
     "text": [
      "LIGHT\n",
      "BITTER\n",
      "BITTER\n",
      "BITTER\n",
      "LIGHT\n"
     ]
    }
   ],
   "source": [
    "def palidromo(numero:int)->bool:\n",
    "    centena=numero//100\n",
    "    decena=(numero-centena*100)//10\n",
    "    unidad=numero-centena*100-decena*10\n",
    "    \n",
    "    if centena == unidad:\n",
    "        resultado = True \n",
    "    else:\n",
    "        resultado = False \n",
    "    return resultado\n",
    "\n",
    "def espar(numero:int)->bool:\n",
    "    if numero % 2 == 0:\n",
    "            resultado = True \n",
    "    else:\n",
    "            resultado = False \n",
    "            return resultado\n",
    "        \n",
    "def clasificar_chocolate(codigo:int)->str:\n",
    "    if palidromo(codigo):\n",
    "        if espar(codigo):\n",
    "            resultado = \"SWEET\"\n",
    "        else:\n",
    "            resultado = \"BITTER\"\n",
    "    else:\n",
    "        if espar(codigo):\n",
    "                resultado = \"CINMAMON\"\n",
    "        else:\n",
    "                resultado = \"LIGHT\"\n",
    "    return resultado\n",
    "    \n",
    "print(clasificar_chocolate(123))\n",
    "print(clasificar_chocolate(222))\n",
    "print(clasificar_chocolate(111))\n",
    "print(clasificar_chocolate(505))\n",
    "print(clasificar_chocolate(576))"
   ]
  },
  {
   "cell_type": "code",
   "execution_count": 13,
   "id": "f22ee708",
   "metadata": {},
   "outputs": [
    {
     "name": "stdout",
     "output_type": "stream",
     "text": [
      "5\n",
      "Despegue !\n",
      "4\n",
      "Despegue !\n",
      "3\n",
      "Despegue !\n",
      "2\n",
      "Despegue !\n",
      "1\n",
      "Despegue !\n"
     ]
    }
   ],
   "source": [
    "n = 5\n",
    "while n > 0:\n",
    "    print(n)\n",
    "    n = n - 1\n",
    "    print(\"Despegue !\")"
   ]
  },
  {
   "cell_type": "code",
   "execution_count": 14,
   "id": "b47b5444",
   "metadata": {},
   "outputs": [
    {
     "data": {
      "text/plain": [
       "720"
      ]
     },
     "execution_count": 14,
     "metadata": {},
     "output_type": "execute_result"
    }
   ],
   "source": [
    "def factorial(n:int):\n",
    "    resultado = 1\n",
    "    numero_actual = 2\n",
    "    while numero_actual <= n:\n",
    "        resultado = resultado * numero_actual\n",
    "        numero_actual += 1\n",
    "    return resultado\n",
    "\n",
    "factorial(6)"
   ]
  },
  {
   "cell_type": "code",
   "execution_count": null,
   "id": "3750a02f",
   "metadata": {},
   "outputs": [],
   "source": [
    "i = 1\n",
    "while 1 > 0:\n",
    "    print(i)\n",
    "    i = i+1\n",
    "print(\"Terminé\")"
   ]
  },
  {
   "cell_type": "code",
   "execution_count": null,
   "id": "80e00c56",
   "metadata": {},
   "outputs": [],
   "source": [
    "# le toca oprimir el boton de pausa sino el sigue\n",
    "i = 1\n",
    "while i != 10 :\n",
    "    print(i)\n",
    "    i = i + 2\n",
    "print(\"Termine\")"
   ]
  },
  {
   "cell_type": "code",
   "execution_count": null,
   "id": "c7233961",
   "metadata": {},
   "outputs": [],
   "source": [
    "# le toca oprimir el boton de pausa sino el sigue\n",
    "i = 1\n",
    "while i != 10 :\n",
    "    print(i)\n",
    "    i = i + 1\n",
    "print(\"Termine\") #aqui tambien toca lo mismo"
   ]
  },
  {
   "cell_type": "code",
   "execution_count": null,
   "id": "7f284fbb",
   "metadata": {},
   "outputs": [],
   "source": [
    "i = 1\n",
    "while i < 10:\n",
    "    print(i)\n",
    "print(\"Termine\")"
   ]
  },
  {
   "cell_type": "code",
   "execution_count": null,
   "id": "3b855dda",
   "metadata": {},
   "outputs": [],
   "source": [
    "promedio, total, contar = 0.0, 0, 0\n",
    "print(\"Introduzca la nota de un estudiante(-1 para salir):\")\n",
    "grado = int(input())\n",
    "while grado != -1:\n",
    "    total = total + grado\n",
    "    contar = contar +1\n",
    "    print(\"Introduzca la nota de un estudiante(-1 para salir):\")\n",
    "    grado = int(input())\n",
    "promedio = total / contar\n",
    "print(\"Promedio de las ntas del gradno escolar es:\" + str(promedio))"
   ]
  },
  {
   "cell_type": "code",
   "execution_count": null,
   "id": "c3316614",
   "metadata": {
    "scrolled": true
   },
   "outputs": [],
   "source": [
    "promedio, total, contar = 0.0, 0, 0\n",
    "print(\"Introduzca la nota de un estudiante(-1 para salir):\")\n",
    "grado = int(input())\n",
    "while grado != -1:\n",
    "    total = total + grado\n",
    "    contar = contar +1\n",
    "    print(\"Introduzca la nota de un estudiante(-1 para salir):\")\n",
    "    grado = int(input())\n",
    "promedio = total / contar\n",
    "print(\"Promedio de las ntas del gradno escolar es:\" + str(promedio))"
   ]
  },
  {
   "cell_type": "code",
   "execution_count": 21,
   "id": "8d303b60",
   "metadata": {},
   "outputs": [
    {
     "name": "stdout",
     "output_type": "stream",
     "text": [
      "1\n",
      "1\n",
      "2\n",
      "3\n",
      "5\n",
      "8\n",
      "13\n",
      "21\n",
      "34\n",
      "55\n",
      "89\n"
     ]
    }
   ],
   "source": [
    "a, b = 0, 1\n",
    "while b < 100:\n",
    "    print (b),\n",
    "    a, b = b, a + b"
   ]
  },
  {
   "cell_type": "code",
   "execution_count": null,
   "id": "3ddd33e9",
   "metadata": {},
   "outputs": [],
   "source": [
    "if x == y:\n",
    "    print(\"x y y son iguales\")\n",
    "else:\n",
    "    if x < y:\n",
    "        print(\"x es menor que y\")\n",
    "    else:\n",
    "        print(\"x es mayor que y\")"
   ]
  },
  {
   "cell_type": "code",
   "execution_count": null,
   "id": "b0db3acd",
   "metadata": {},
   "outputs": [],
   "source": [
    "x = 10\n",
    "if x > 0 :\n",
    "    print(\"x es positivo\")\n",
    "else:\n",
    "    print(\"x es negativo\")"
   ]
  },
  {
   "cell_type": "code",
   "execution_count": null,
   "id": "b125bae8",
   "metadata": {},
   "outputs": [],
   "source": []
  }
 ],
 "metadata": {
  "kernelspec": {
   "display_name": "Python 3 (ipykernel)",
   "language": "python",
   "name": "python3"
  },
  "language_info": {
   "codemirror_mode": {
    "name": "ipython",
    "version": 3
   },
   "file_extension": ".py",
   "mimetype": "text/x-python",
   "name": "python",
   "nbconvert_exporter": "python",
   "pygments_lexer": "ipython3",
   "version": "3.11.0"
  }
 },
 "nbformat": 4,
 "nbformat_minor": 5
}
