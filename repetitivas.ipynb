{
 "cells": [
  {
   "cell_type": "markdown",
   "id": "458b46ce",
   "metadata": {},
   "source": [
    "1.\tSe debe solicitar al usuario un número entero positivo, el programa debe mostrar todos los números pares que hay hasta ese número."
   ]
  },
  {
   "cell_type": "code",
   "execution_count": 1,
   "id": "c523c0fd",
   "metadata": {},
   "outputs": [
    {
     "name": "stdout",
     "output_type": "stream",
     "text": [
      "Los números pares hasta 20 son:\n",
      "2 4 6 8 10 12 14 16 18 20 "
     ]
    }
   ],
   "source": [
    "num = int(input(\"Ingrese un número entero positivo: \"))\n",
    "\n",
    "print(f\"Los números pares hasta {num} son:\")\n",
    "for i in range(1, num+1):\n",
    "    if i % 2 == 0:\n",
    "        print(i, end=\" \")"
   ]
  },
  {
   "cell_type": "markdown",
   "id": "4eeac8cc",
   "metadata": {},
   "source": [
    "2. Se debe solicitar al usuario un número entero positivo, el programa debe mostrar todos los números impares que hay hasta ese número en orden descendente."
   ]
  },
  {
   "cell_type": "code",
   "execution_count": 2,
   "id": "0ce690a0",
   "metadata": {},
   "outputs": [
    {
     "name": "stdout",
     "output_type": "stream",
     "text": [
      "Los números impares hasta 15 en orden descendente son:\n",
      "15 13 11 9 7 5 3 1 "
     ]
    }
   ],
   "source": [
    "num = int(input(\"Ingrese un número entero positivo: \"))\n",
    "\n",
    "print(f\"Los números impares hasta {num} en orden descendente son:\")\n",
    "for i in range(num, 0, -1):\n",
    "    if i % 2 != 0:\n",
    "        print(i, end=\" \")"
   ]
  },
  {
   "cell_type": "markdown",
   "id": "b1f5eb7e",
   "metadata": {},
   "source": [
    "3.\tSolicitar un número al usuario y mostrar en pantalla la sumatoria desde 1 hasta dicho número."
   ]
  },
  {
   "cell_type": "code",
   "execution_count": 3,
   "id": "75740cb8",
   "metadata": {},
   "outputs": [
    {
     "name": "stdout",
     "output_type": "stream",
     "text": [
      "La suma desde 1 hasta 8 es: 36\n"
     ]
    }
   ],
   "source": [
    "num = int(input(\"Ingrese un número: \"))\n",
    "suma = 0\n",
    "\n",
    "for i in range(1, num+1):\n",
    "    suma += i\n",
    "\n",
    "print(f\"La suma desde 1 hasta {num} es: {suma}\")"
   ]
  },
  {
   "cell_type": "markdown",
   "id": "bd81936f",
   "metadata": {},
   "source": [
    "4.\tEscriba un programa que le permita al usuario ingresar números hasta que el usuario ingrese el número -1. Se debe informar cuantos números se ingresaron."
   ]
  },
  {
   "cell_type": "code",
   "execution_count": 4,
   "id": "8f3671ea",
   "metadata": {},
   "outputs": [
    {
     "name": "stdout",
     "output_type": "stream",
     "text": [
      "Se ingresaron 9 números.\n"
     ]
    }
   ],
   "source": [
    "cantidad = 0\n",
    "num = int(input(\"Ingrese un número (ingrese -1 para terminar): \"))\n",
    "\n",
    "while num != -1:\n",
    "    cantidad += 1\n",
    "    num = int(input(\"Ingrese un número (ingrese -1 para terminar): \"))\n",
    "\n",
    "print(f\"Se ingresaron {cantidad} números.\")"
   ]
  },
  {
   "cell_type": "markdown",
   "id": "da9279da",
   "metadata": {},
   "source": [
    "5.\tEscriba un programa que permita al usuario ingresar números, el programa debe ir sumando los números y cuando el usuario ingrese el número -1 el programa debe mostrar la suma de todos los números ingresados."
   ]
  },
  {
   "cell_type": "code",
   "execution_count": 5,
   "id": "976e7d25",
   "metadata": {},
   "outputs": [
    {
     "name": "stdout",
     "output_type": "stream",
     "text": [
      "La suma de los números ingresados es: 4\n"
     ]
    }
   ],
   "source": [
    "suma = 0\n",
    "num = int(input(\"Ingrese un número (ingrese -1 para terminar): \"))\n",
    "\n",
    "while num != -1:\n",
    "    suma += num\n",
    "    num = int(input(\"Ingrese un número (ingrese -1 para terminar): \"))\n",
    "\n",
    "print(f\"La suma de los números ingresados es: {suma}\")"
   ]
  },
  {
   "cell_type": "markdown",
   "id": "9b938871",
   "metadata": {},
   "source": [
    "6.\tCalcular el factorial de un número."
   ]
  },
  {
   "cell_type": "code",
   "execution_count": 6,
   "id": "a15bf9f1",
   "metadata": {},
   "outputs": [
    {
     "name": "stdout",
     "output_type": "stream",
     "text": [
      "El factorial de 7 es: 5040\n"
     ]
    }
   ],
   "source": [
    "num = int(input(\"Ingrese un número: \"))\n",
    "factorial = 1\n",
    "\n",
    "for i in range(1, num+1):\n",
    "    factorial *= i\n",
    "\n",
    "print(f\"El factorial de {num} es: {factorial}\")"
   ]
  },
  {
   "cell_type": "markdown",
   "id": "43a9dcf8",
   "metadata": {},
   "source": [
    "7.\tCalcular el promedio de un estudiante que tiene 7 calificaciones en la materia de Pensamiento Algorítmico."
   ]
  },
  {
   "cell_type": "code",
   "execution_count": 7,
   "id": "486afdbc",
   "metadata": {},
   "outputs": [
    {
     "name": "stdout",
     "output_type": "stream",
     "text": [
      "El promedio de las calificaciones es: 4.0\n"
     ]
    }
   ],
   "source": [
    "calificaciones = []\n",
    "\n",
    "for i in range(7):\n",
    "    calificacion = float(input(f\"Ingrese la calificación {i+1}: \"))\n",
    "    calificaciones.append(calificacion)\n",
    "\n",
    "promedio = sum(calificaciones) / len(calificaciones)\n",
    "print(f\"El promedio de las calificaciones es: {promedio}\")"
   ]
  },
  {
   "cell_type": "markdown",
   "id": "fbe7f45f",
   "metadata": {},
   "source": [
    "8.\tEscriba un programa que pida un número, y si el numero ingresado es menor que cero vuelva a pedir otro número, y que repita este proceso hasta que el usuario ingrese un valor positivo"
   ]
  },
  {
   "cell_type": "code",
   "execution_count": 8,
   "id": "9b3468de",
   "metadata": {},
   "outputs": [
    {
     "name": "stdout",
     "output_type": "stream",
     "text": [
      "El número ingresado es: 0\n"
     ]
    }
   ],
   "source": [
    "num = int(input(\"Ingrese un número positivo: \"))\n",
    "\n",
    "while num < 0:\n",
    "    num = int(input(\"Número inválido. Ingrese un número positivo: \"))\n",
    "\n",
    "print(f\"El número ingresado es: {num}\")"
   ]
  },
  {
   "cell_type": "markdown",
   "id": "ee291f66",
   "metadata": {},
   "source": [
    "9.\t¡Rifa! El sistema debe generar un número aleatorio entre 1 y 10, luego le dará 3 oportunidades al jugador para adivinar qué número se generó. Si el jugador no acierta el sistema debe informar cual fue el número generado."
   ]
  },
  {
   "cell_type": "code",
   "execution_count": 9,
   "id": "5ab25857",
   "metadata": {},
   "outputs": [
    {
     "name": "stdout",
     "output_type": "stream",
     "text": [
      "Número incorrecto. Intenta de nuevo.\n",
      "Número incorrecto. Intenta de nuevo.\n",
      "Lo siento, agotaste tus intentos. El número generado era 1.\n"
     ]
    }
   ],
   "source": [
    "import random\n",
    "\n",
    "num_aleatorio = random.randint(1, 10)\n",
    "intentos = 0\n",
    "\n",
    "while intentos < 3:\n",
    "    num_usuario = int(input(\"Adivine el número generado (entre 1 y 10): \"))\n",
    "    intentos += 1\n",
    "    \n",
    "    if num_usuario == num_aleatorio:\n",
    "        print(\"¡Felicidades! Adivinaste el número.\")\n",
    "        break\n",
    "    elif intentos == 3:\n",
    "        print(f\"Lo siento, agotaste tus intentos. El número generado era {num_aleatorio}.\")\n",
    "    else:\n",
    "        print(\"Número incorrecto. Intenta de nuevo.\")"
   ]
  },
  {
   "cell_type": "markdown",
   "id": "1f4ccf43",
   "metadata": {},
   "source": [
    "10.\tEscriba un programa que solicite 10 números.  El programa debe mostrar cual fue el mayor de los números ingresados. "
   ]
  },
  {
   "cell_type": "code",
   "execution_count": 10,
   "id": "8cf095ce",
   "metadata": {},
   "outputs": [
    {
     "name": "stdout",
     "output_type": "stream",
     "text": [
      "El mayor de los números ingresados es: 988.0\n"
     ]
    }
   ],
   "source": [
    "mayor = float(\"-inf\")  # Inicializar el mayor con un valor muy pequeño\n",
    "\n",
    "for i in range(10):\n",
    "    num = float(input(f\"Ingrese el número {i+1}: \"))\n",
    "    if num > mayor:\n",
    "        mayor = num\n",
    "\n",
    "print(\"El mayor de los números ingresados es:\", mayor)"
   ]
  },
  {
   "cell_type": "markdown",
   "id": "36a35c62",
   "metadata": {},
   "source": [
    "11.\t Escriba un programa que solicite 10 números.  El programa debe mostrar cual fue el menor de los números ingresados. "
   ]
  },
  {
   "cell_type": "code",
   "execution_count": 12,
   "id": "e8955a9f",
   "metadata": {},
   "outputs": [
    {
     "name": "stdout",
     "output_type": "stream",
     "text": [
      "El menor de los números ingresados es: -1.0\n"
     ]
    }
   ],
   "source": [
    "menor = float(\"inf\")  # Inicializar el menor con un valor muy grande\n",
    "\n",
    "for i in range(10):\n",
    "    num = float(input(f\"Ingrese el número {i+1}: \"))\n",
    "    if num < menor:\n",
    "        menor = num\n",
    "\n",
    "print(\"El menor de los números ingresados es:\", menor)"
   ]
  },
  {
   "cell_type": "markdown",
   "id": "ebdc978d",
   "metadata": {},
   "source": [
    "12.\t Escriba un programa que pida un número, y si no está en el rango [m, n] lo vuelva a pedir, y que repita este proceso hasta que el usuario ingrese un valor dentro del rango [m, n]."
   ]
  },
  {
   "cell_type": "code",
   "execution_count": 13,
   "id": "c12d082f",
   "metadata": {},
   "outputs": [
    {
     "name": "stdout",
     "output_type": "stream",
     "text": [
      "Gracias por ingresar un número dentro del rango [1, 10]: 2\n"
     ]
    }
   ],
   "source": [
    "m = int(input(\"Ingrese el valor mínimo del rango: \"))\n",
    "n = int(input(\"Ingrese el valor máximo del rango: \"))\n",
    "\n",
    "num = int(input(f\"Ingrese un número dentro del rango [{m}, {n}]: \"))\n",
    "\n",
    "while num < m or num > n:\n",
    "    print(f\"El número ingresado no está dentro del rango [{m}, {n}]. Intente de nuevo.\")\n",
    "    num = int(input(f\"Ingrese un número dentro del rango [{m}, {n}]: \"))\n",
    "\n",
    "print(f\"Gracias por ingresar un número dentro del rango [{m}, {n}]:\", num)"
   ]
  },
  {
   "cell_type": "markdown",
   "id": "c8c19b65",
   "metadata": {},
   "source": [
    "13.\tCalcular la suma de los números múltiplos de 4 desde 1 hasta 100."
   ]
  },
  {
   "cell_type": "code",
   "execution_count": 14,
   "id": "49d8d5b9",
   "metadata": {},
   "outputs": [
    {
     "name": "stdout",
     "output_type": "stream",
     "text": [
      "La suma de los números múltiplos de 4 desde 1 hasta 100 es: 1300\n"
     ]
    }
   ],
   "source": [
    "suma = 0\n",
    "for i in range(1, 101):\n",
    "    if i % 4 == 0:\n",
    "        suma += i\n",
    "\n",
    "print(\"La suma de los números múltiplos de 4 desde 1 hasta 100 es:\", suma)"
   ]
  },
  {
   "cell_type": "markdown",
   "id": "50b2fdf5",
   "metadata": {},
   "source": [
    "14.\t[A] Escriba un programa que le pida un número y determine si este es primo."
   ]
  },
  {
   "cell_type": "code",
   "execution_count": 15,
   "id": "23e12d10",
   "metadata": {},
   "outputs": [
    {
     "name": "stdout",
     "output_type": "stream",
     "text": [
      "El número 2 es primo.\n"
     ]
    }
   ],
   "source": [
    "num = int(input(\"Ingrese un número: \"))\n",
    "\n",
    "es_primo = True\n",
    "if num < 2:\n",
    "    es_primo = False\n",
    "else:\n",
    "    for i in range(2, int(num ** 0.5) + 1):\n",
    "        if num % i == 0:\n",
    "            es_primo = False\n",
    "            break\n",
    "\n",
    "if es_primo:\n",
    "    print(f\"El número {num} es primo.\")\n",
    "else:\n",
    "    print(f\"El número {num} no es primo.\")"
   ]
  },
  {
   "cell_type": "markdown",
   "id": "278ca0f7",
   "metadata": {},
   "source": [
    "15.\t[A] Crea un programa que invierta el orden de las cifras de un número a través de divisiones sucesivas. "
   ]
  },
  {
   "cell_type": "code",
   "execution_count": 17,
   "id": "764bc40d",
   "metadata": {},
   "outputs": [
    {
     "name": "stdout",
     "output_type": "stream",
     "text": [
      "El número invertido es: 51\n"
     ]
    }
   ],
   "source": [
    "num = int(input(\"Ingrese un número: \"))\n",
    "invertido = 0\n",
    "\n",
    "while num > 0:\n",
    "    digito = num % 10\n",
    "    invertido = invertido * 10 + digito\n",
    "    num //= 10\n",
    "\n",
    "print(\"El número invertido es:\", invertido)"
   ]
  },
  {
   "cell_type": "markdown",
   "id": "897dafd6",
   "metadata": {},
   "source": [
    "16.\t[A] Basado en el ejercicio 7, adicional al promedio indique cuantas notas aprobó y cuantas reprobó el estudiante."
   ]
  },
  {
   "cell_type": "code",
   "execution_count": 18,
   "id": "bed0f5c2",
   "metadata": {},
   "outputs": [
    {
     "name": "stdout",
     "output_type": "stream",
     "text": [
      "El promedio de las calificaciones es: 3.0\n",
      "Aprobó 4 calificaciones y reprobó 3 calificaciones.\n"
     ]
    }
   ],
   "source": [
    "suma = 0\n",
    "aprobadas = 0\n",
    "reprobadas = 0\n",
    "\n",
    "for i in range(7):\n",
    "    calificacion = float(input(f\"Ingrese la calificación {i+1}: \"))\n",
    "    suma += calificacion\n",
    "    if calificacion >= 3:\n",
    "        aprobadas += 1\n",
    "    else:\n",
    "        reprobadas += 1\n",
    "\n",
    "promedio = suma / 7\n",
    "print(\"El promedio de las calificaciones es:\", promedio)\n",
    "print(f\"Aprobó {aprobadas} calificaciones y reprobó {reprobadas} calificaciones.\")"
   ]
  },
  {
   "cell_type": "markdown",
   "id": "06fecabb",
   "metadata": {},
   "source": [
    "17.\t[M] En un frasco de 100 ml se va a preparar una solución de concentración con una cantidad aleatoria de agua y se adicionarán partes iguales de C2H5OH (etanol) y CH3-COOH (ácido acético) hasta que se llene el frasco a su máxima capacidad. Si las concentraciones de etanol son superiores al 15% se debe repetir la solución. Se debe mostrar en pantalla cuales son las concentraciones obtenidas cada vez que se prepara la solución hasta que se cumpla la condición, se debe mostrar al final cuantas veces se debió repetir la solución."
   ]
  },
  {
   "cell_type": "code",
   "execution_count": 19,
   "id": "e00d5f9f",
   "metadata": {},
   "outputs": [
    {
     "name": "stdout",
     "output_type": "stream",
     "text": [
      "Concentración de etanol: 23.53%\n",
      "Concentración de ácido acético: 26.47%\n",
      "Concentración de agua: 50.00%\n",
      "La concentración de etanol es superior al 15%. Se debe repetir la solución.\n",
      "Concentración de etanol: 19.56%\n",
      "Concentración de ácido acético: 30.44%\n",
      "Concentración de agua: 50.00%\n",
      "La concentración de etanol es superior al 15%. Se debe repetir la solución.\n",
      "Concentración de etanol: 24.57%\n",
      "Concentración de ácido acético: 25.43%\n",
      "Concentración de agua: 50.00%\n",
      "La concentración de etanol es superior al 15%. Se debe repetir la solución.\n",
      "Concentración de etanol: 39.87%\n",
      "Concentración de ácido acético: 10.13%\n",
      "Concentración de agua: 50.00%\n",
      "La concentración de etanol es superior al 15%. Se debe repetir la solución.\n",
      "Concentración de etanol: 12.02%\n",
      "Concentración de ácido acético: 37.98%\n",
      "Concentración de agua: 50.00%\n",
      "La solución se repitió 4 veces.\n"
     ]
    }
   ],
   "source": [
    "import random\n",
    "\n",
    "frasco_capacidad = 100\n",
    "solucion_repetida = False\n",
    "veces_repetida = 0\n",
    "\n",
    "while True:\n",
    "    etanol = random.uniform(0, frasco_capacidad / 2)\n",
    "    acido_acetico = frasco_capacidad / 2 - etanol\n",
    "    agua = frasco_capacidad - etanol - acido_acetico\n",
    "\n",
    "    concentracion_etanol = (etanol / frasco_capacidad) * 100\n",
    "\n",
    "    print(f\"Concentración de etanol: {concentracion_etanol:.2f}%\")\n",
    "    print(f\"Concentración de ácido acético: {(acido_acetico / frasco_capacidad) * 100:.2f}%\")\n",
    "    print(f\"Concentración de agua: {(agua / frasco_capacidad) * 100:.2f}%\")\n",
    "\n",
    "    if concentracion_etanol <= 15:\n",
    "        break\n",
    "    else:\n",
    "        veces_repetida += 1\n",
    "        solucion_repetida = True\n",
    "        print(\"La concentración de etanol es superior al 15%. Se debe repetir la solución.\")\n",
    "\n",
    "if solucion_repetida:\n",
    "    print(f\"La solución se repitió {veces_repetida} veces.\")"
   ]
  },
  {
   "cell_type": "markdown",
   "id": "9740dc37",
   "metadata": {},
   "source": [
    "18.\t[M] Una compañía paga semanalmente $500000 a sus vendedores más una comisión de 9% del total de ventas realizadas. Elabore el algoritmo en Python que pida al usuario el total de ventas y determine el pago que deberá realizarse a cada vendedor. Mostrar cuánto fue el pago total de los trabajadores y a cuántos les pagaron. Al finalizar el gerente desea saber a cuantos vendedores se les pagó más de $800000."
   ]
  },
  {
   "cell_type": "code",
   "execution_count": 21,
   "id": "bb1031df",
   "metadata": {},
   "outputs": [
    {
     "name": "stdout",
     "output_type": "stream",
     "text": [
      "El pago para el vendedor es: $500,005\n",
      "El pago total de los trabajadores es: $500,005\n",
      "0 vendedores recibieron un pago superior a $800.000.\n"
     ]
    }
   ],
   "source": [
    "pago_base = 500000\n",
    "comision = 0.09\n",
    "pago_total = 0\n",
    "vendedores_mayores_800k = 0\n",
    "\n",
    "ventas = float(input(\"Ingrese el total de ventas: \"))\n",
    "pago_vendedor = pago_base + comision * ventas\n",
    "pago_total += pago_vendedor\n",
    "\n",
    "if pago_vendedor > 800000:\n",
    "    vendedores_mayores_800k += 1\n",
    "\n",
    "print(f\"El pago para el vendedor es: ${pago_vendedor:,.0f}\")\n",
    "\n",
    "mas_vendedores = input(\"¿Hay más vendedores? (s/n): \")\n",
    "\n",
    "while mas_vendedores.lower() == \"s\":\n",
    "    ventas = float(input(\"Ingrese el total de ventas: \"))\n",
    "    pago_vendedor = pago_base + comision * ventas\n",
    "    pago_total += pago_vendedor\n",
    "\n",
    "    if pago_vendedor > 800000:\n",
    "        vendedores_mayores_800k += 1\n",
    "\n",
    "    print(f\"El pago para el vendedor es: ${pago_vendedor:,.0f}\")\n",
    "    mas_vendedores = input(\"¿Hay más vendedores? (s/n): \")\n",
    "\n",
    "print(f\"El pago total de los trabajadores es: ${pago_total:,.0f}\")\n",
    "print(f\"{vendedores_mayores_800k} vendedores recibieron un pago superior a $800.000.\")"
   ]
  },
  {
   "cell_type": "markdown",
   "id": "3a38d19e",
   "metadata": {},
   "source": [
    "19.\t[M] El curso de Fotografía se califica con dos parciales (el primero tiene un peso de 30% y el segundo 35%), una nota de laboratorios (25%) y una nota del trabajo final del curso (10%). Calcular la nota definitiva de cada estudiante para un grupo de n estudiantes."
   ]
  },
  {
   "cell_type": "code",
   "execution_count": 22,
   "id": "be505c91",
   "metadata": {},
   "outputs": [
    {
     "name": "stdout",
     "output_type": "stream",
     "text": [
      "La nota definitiva del estudiante 1 es: 3.10\n",
      "La nota definitiva del estudiante 2 es: 3.00\n"
     ]
    }
   ],
   "source": [
    "num_estudiantes = int(input(\"Ingrese el número de estudiantes: \"))\n",
    "\n",
    "for i in range(num_estudiantes):\n",
    "    parcial1 = float(input(f\"Ingrese la calificación del primer parcial para el estudiante {i+1}: \"))\n",
    "    parcial2 = float(input(f\"Ingrese la calificación del segundo parcial para el estudiante {i+1}: \"))\n",
    "    laboratorios = float(input(f\"Ingrese la calificación de laboratorios para el estudiante {i+1}: \"))\n",
    "    trabajo_final = float(input(f\"Ingrese la calificación del trabajo final para el estudiante {i+1}: \"))\n",
    "\n",
    "    nota_definitiva = parcial1 * 0.3 + parcial2 * 0.35 + laboratorios * 0.25 + trabajo_final * 0.1\n",
    "    print(f\"La nota definitiva del estudiante {i+1} es: {nota_definitiva:.2f}\")"
   ]
  },
  {
   "cell_type": "markdown",
   "id": "fbb1fd16",
   "metadata": {},
   "source": [
    "20.\t[M] En un supermercado un ama de casa pone en su carrito los artículos que va tomando de los estantes. La señora quiere asegurarse de que el cajero le cobre bien lo que ella ha comprado, por lo que cada vez que toma un artículo anota su precio junto con la cantidad de artículos que ha tomado y determina cuánto dinero gastara en ese artículo; a esto le suma lo que ira gastando en los demás artículos, hasta que decide que ya tomo todo lo que necesitaba. Ayúdale a esta señora a obtener el total de sus compras."
   ]
  },
  {
   "cell_type": "code",
   "execution_count": 23,
   "id": "1a9613a0",
   "metadata": {},
   "outputs": [
    {
     "name": "stdout",
     "output_type": "stream",
     "text": [
      "Subtotal para este artículo: $5,000\n",
      "El total de las compras es: $5,000\n"
     ]
    }
   ],
   "source": [
    "total_compras = 0\n",
    "\n",
    "while True:\n",
    "    precio = float(input(\"Ingrese el precio del artículo (o 0 para finalizar): \"))\n",
    "    if precio == 0:\n",
    "        break\n",
    "    cantidad = int(input(\"Ingrese la cantidad de artículos: \"))\n",
    "    subtotal = precio * cantidad\n",
    "    total_compras += subtotal\n",
    "    print(f\"Subtotal para este artículo: ${subtotal:,.0f}\")\n",
    "\n",
    "print(f\"El total de las compras es: ${total_compras:,.0f}\")"
   ]
  },
  {
   "cell_type": "markdown",
   "id": "7f283b5c",
   "metadata": {},
   "source": [
    "21.\t[A] Para ingresar al curso de Estudio de suelos se realizó un examen clasificatorio. Se tienen los resultados de dicho examen por aspirante (una nota comprendida entre 0.0 y 5.0).  Se desea saber cuántos aspirantes aprobaron el examen, cuántos lo perdieron (nota menor que 3.0) y cuál fue el promedio de todo el grupo de aspirantes. No sabemos cuántos aspirantes son, pero sabemos que cuando se quiera indicar que se finalizó el ingreso de notas se digitará un valor negativo."
   ]
  },
  {
   "cell_type": "code",
   "execution_count": 24,
   "id": "b0375c0d",
   "metadata": {},
   "outputs": [
    {
     "name": "stdout",
     "output_type": "stream",
     "text": [
      "2 aspirantes aprobaron el examen.\n",
      "6 aspirantes reprobaron el examen.\n",
      "El promedio de todo el grupo de aspirantes es: 2.75\n"
     ]
    }
   ],
   "source": [
    "suma_notas = 0\n",
    "aprobados = 0\n",
    "reprobados = 0\n",
    "contador = 0\n",
    "\n",
    "nota = float(input(\"Ingrese la nota del aspirante (valor negativo para finalizar): \"))\n",
    "\n",
    "while nota >= 0:\n",
    "    suma_notas += nota\n",
    "    contador += 1\n",
    "    if nota >= 3.0:\n",
    "        aprobados += 1\n",
    "    else:\n",
    "        reprobados += 1\n",
    "    nota = float(input(\"Ingrese la nota del aspirante (valor negativo para finalizar): \"))\n",
    "\n",
    "promedio = suma_notas / contador if contador > 0 else 0\n",
    "\n",
    "print(f\"{aprobados} aspirantes aprobaron el examen.\")\n",
    "print(f\"{reprobados} aspirantes reprobaron el examen.\")\n",
    "print(f\"El promedio de todo el grupo de aspirantes es: {promedio:.2f}\")"
   ]
  },
  {
   "cell_type": "markdown",
   "id": "3d6d1ad0",
   "metadata": {},
   "source": [
    "22.\t[M] Una persona debe realizar un muestreo con N sujetos para determinar el promedio de peso de los niños, jóvenes, adultos y viejos que existen en su zona habitacional, se determinan las categorías con base en la siguiente tabla"
   ]
  },
  {
   "cell_type": "code",
   "execution_count": 25,
   "id": "9c5214cc",
   "metadata": {},
   "outputs": [
    {
     "name": "stdout",
     "output_type": "stream",
     "text": [
      "El promedio de peso de los niños es: 24.00\n",
      "El promedio de peso de los jóvenes es: 12.00\n"
     ]
    }
   ],
   "source": [
    "num_sujetos = int(input(\"Ingrese el número de sujetos: \"))\n",
    "\n",
    "suma_pesos_ninos = 0\n",
    "suma_pesos_jovenes = 0\n",
    "suma_pesos_adultos = 0\n",
    "suma_pesos_viejos = 0\n",
    "contador_ninos = 0\n",
    "contador_jovenes = 0\n",
    "contador_adultos = 0\n",
    "contador_viejos = 0\n",
    "\n",
    "for i in range(num_sujetos):\n",
    "    edad = int(input(f\"Ingrese la edad del sujeto {i+1}: \"))\n",
    "    peso = float(input(f\"Ingrese el peso del sujeto {i+1}: \"))\n",
    "\n",
    "    if edad >= 1 and edad <= 12:\n",
    "        suma_pesos_ninos += peso\n",
    "        contador_ninos += 1\n",
    "    elif edad >= 13 and edad <= 29:\n",
    "        suma_pesos_jovenes += peso\n",
    "        contador_jovenes += 1\n",
    "    elif edad >= 30 and edad <= 59:\n",
    "        suma_pesos_adultos += peso\n",
    "        contador_adultos += 1\n",
    "    else:\n",
    "        suma_pesos_viejos += peso\n",
    "        contador_viejos += 1\n",
    "\n",
    "if contador_ninos > 0:\n",
    "    promedio_ninos = suma_pesos_ninos / contador_ninos\n",
    "    print(f\"El promedio de peso de los niños es: {promedio_ninos:.2f}\")\n",
    "\n",
    "if contador_jovenes > 0:\n",
    "    promedio_jovenes = suma_pesos_jovenes / contador_jovenes\n",
    "    print(f\"El promedio de peso de los jóvenes es: {promedio_jovenes:.2f}\")\n",
    "\n",
    "if contador_adultos > 0:\n",
    "    promedio_adultos = suma_pesos_adultos / contador_adultos\n",
    "    print(f\"El promedio de peso de los adultos es: {promedio_adultos:.2f}\")\n",
    "\n",
    "if contador_viejos > 0:\n",
    "    promedio_viejos = suma_pesos_viejos / contador_viejos\n",
    "    print(f\"El promedio de peso de los viejos es: {promedio_viejos:.2f}\")"
   ]
  },
  {
   "cell_type": "markdown",
   "id": "b4deb0b6",
   "metadata": {},
   "source": [
    "23.\t[B] El profesor Aspergillus desea evaluar a sus estudiantes usando un juego de computador. Para esto, preguntará una característica de la nomenclatura esperando que el estudiante ingrese la respuesta en el menor número de intentos posibles. Se realizarán un total de 7 preguntas. Por cada intento errado, se le rebajará una décima, informar al estudiante su nota. "
   ]
  },
  {
   "cell_type": "code",
   "execution_count": 26,
   "id": "d4bd8a80",
   "metadata": {},
   "outputs": [
    {
     "name": "stdout",
     "output_type": "stream",
     "text": [
      "1. Usa cofactores. H+ dona sus e- al oxígeno.\n",
      "2. 2 moléculas. Generalmente transfieren fosfatos.\n",
      "3. Participa agua para hacer rompimiento de enlaces.\n",
      "4. Rompen sin agua. Dobles enlaces.\n",
      "5. Reactivos y productos tienen el mismo # de átomos.\n",
      "6. De 2 moléculas paso a 1. Formación de enlaces con gasto de ATP.\n",
      "7. No cambia la molécula, solo la transporta a través de la membrana.\n",
      "Su nota final es: 4.3\n"
     ]
    }
   ],
   "source": [
    "nota = 5.0\n",
    "preguntas = [\n",
    "    \"Usa cofactores. H+ dona sus e- al oxígeno.\",\n",
    "    \"2 moléculas. Generalmente transfieren fosfatos.\",\n",
    "    \"Participa agua para hacer rompimiento de enlaces.\",\n",
    "    \"Rompen sin agua. Dobles enlaces.\",\n",
    "    \"Reactivos y productos tienen el mismo # de átomos.\",\n",
    "    \"De 2 moléculas paso a 1. Formación de enlaces con gasto de ATP.\",\n",
    "    \"No cambia la molécula, solo la transporta a través de la membrana.\"\n",
    "]\n",
    "respuestas = [\"Oxidorreductasa\", \"Transferasa\", \"Hidrolasas\", \"Liasas\", \"Isomerasas\", \"Ligasas\", \"Translocasa\"]\n",
    "\n",
    "for i in range(7):\n",
    "    print(f\"{i+1}. {preguntas[i]}\")\n",
    "    respuesta = input(\"Ingrese su respuesta: \")\n",
    "    if respuesta.lower() != respuestas[i].lower():\n",
    "        nota -= 0.1\n",
    "\n",
    "print(f\"Su nota final es: {nota:.1f}\")"
   ]
  },
  {
   "cell_type": "markdown",
   "id": "afe9fa5d",
   "metadata": {},
   "source": [
    "24.\t[A+] En un centro de diagnóstico automotor de la ciudad de Cali se mide el nivel de contaminación de un automóvil en una escala de 1 a 100, para poder aprobar la revisión se debe contar con una calificación de al menos 85. El centro recibe un número variable de vehículos al día, de cada vehículo se registra:\n",
    "•\tMarca (1-Mazda, 2-Chevrolet, 3-Renault, 4-Kia, 5-Hyundai)\n",
    "•\tModelo\n",
    "•\tPlaca\n",
    "•\tCalificación obtenida\n",
    "\n",
    "Una vez ingresados los resultados se debe presentar el siguiente informe:\n",
    "•\tCuál es el promedio de las calificaciones de los vehículos aprobados\n",
    "•\tPorcentaje de vehículos aprobados\n",
    "•\tPorcentaje de vehículos no aprobados\n",
    "•\tMarca más frecuente e indicar cuantos vehículos fueron evaluados\n",
    "•\tMarca menos frecuente e indicar cuantos vehículos fueron evaluados\n"
   ]
  },
  {
   "cell_type": "code",
   "execution_count": 27,
   "id": "00493c24",
   "metadata": {},
   "outputs": [
    {
     "name": "stdout",
     "output_type": "stream",
     "text": [
      "El promedio de las calificaciones de los vehículos aprobados es: 0.00\n",
      "El porcentaje de vehículos aprobados es: 0.00%\n",
      "El porcentaje de vehículos no aprobados es: 100.00%\n",
      "La marca más frecuente fue Mazda, con 1 vehículos evaluados.\n",
      "La marca menos frecuente fue Chevrolet, con 0 vehículos evaluados.\n"
     ]
    }
   ],
   "source": [
    "marcas = [\"Mazda\", \"Chevrolet\", \"Renault\", \"Kia\", \"Hyundai\"]\n",
    "contadores_marcas = [0, 0, 0, 0, 0]\n",
    "suma_calificaciones_aprobados = 0\n",
    "conteo_aprobados = 0\n",
    "conteo_no_aprobados = 0\n",
    "\n",
    "while True:\n",
    "    marca = int(input(\"Ingrese la marca del vehículo (1-Mazda, 2-Chevrolet, 3-Renault, 4-Kia, 5-Hyundai, 0 para finalizar): \"))\n",
    "    if marca == 0:\n",
    "        break\n",
    "    modelo = input(\"Ingrese el modelo del vehículo: \")\n",
    "    placa = input(\"Ingrese la placa del vehículo: \")\n",
    "    calificacion = float(input(\"Ingrese la calificación obtenida: \"))\n",
    "\n",
    "    contadores_marcas[marca - 1] += 1\n",
    "\n",
    "    if calificacion >= 85:\n",
    "        suma_calificaciones_aprobados += calificacion\n",
    "        conteo_aprobados += 1\n",
    "    else:\n",
    "        conteo_no_aprobados += 1\n",
    "\n",
    "if conteo_aprobados > 0:\n",
    "    promedio_calificaciones_aprobados = suma_calificaciones_aprobados / conteo_aprobados\n",
    "else:\n",
    "    promedio_calificaciones_aprobados = 0\n",
    "\n",
    "porcentaje_aprobados = (conteo_aprobados / (conteo_aprobados + conteo_no_aprobados)) * 100 if (conteo_aprobados + conteo_no_aprobados) > 0 else 0\n",
    "porcentaje_no_aprobados = 100 - porcentaje_aprobados\n",
    "\n",
    "marca_mas_frecuente = marcas[contadores_marcas.index(max(contadores_marcas))]\n",
    "marca_menos_frecuente = marcas[contadores_marcas.index(min(contadores_marcas))]\n",
    "\n",
    "print(f\"El promedio de las calificaciones de los vehículos aprobados es: {promedio_calificaciones_aprobados:.2f}\")\n",
    "print(f\"El porcentaje de vehículos aprobados es: {porcentaje_aprobados:.2f}%\")\n",
    "print(f\"El porcentaje de vehículos no aprobados es: {porcentaje_no_aprobados:.2f}%\")\n",
    "print(f\"La marca más frecuente fue {marca_mas_frecuente}, con {contadores_marcas[contadores_marcas.index(max(contadores_marcas))]} vehículos evaluados.\")\n",
    "print(f\"La marca menos frecuente fue {marca_menos_frecuente}, con {contadores_marcas[contadores_marcas.index(min(contadores_marcas))]} vehículos evaluados.\")"
   ]
  },
  {
   "cell_type": "markdown",
   "id": "b2f4a13e",
   "metadata": {},
   "source": [
    "25.\t[A] Traduzca el siguiente diagrama a Python y defina que hace el algoritmo"
   ]
  },
  {
   "cell_type": "code",
   "execution_count": 29,
   "id": "23876173",
   "metadata": {},
   "outputs": [
    {
     "name": "stdout",
     "output_type": "stream",
     "text": [
      "La suma de los dígitos del número ingresado es: 6\n"
     ]
    }
   ],
   "source": [
    "numero = int(input(\"Ingrese un número entero: \"))\n",
    "suma = 0\n",
    "\n",
    "while numero != 0:\n",
    "    digito = numero % 10\n",
    "    suma += digito\n",
    "    numero //= 10\n",
    "\n",
    "print(f\"La suma de los dígitos del número ingresado es: {suma}\")"
   ]
  }
 ],
 "metadata": {
  "kernelspec": {
   "display_name": "Python 3.9.12 ('base')",
   "language": "python",
   "name": "python3"
  },
  "language_info": {
   "codemirror_mode": {
    "name": "ipython",
    "version": 3
   },
   "file_extension": ".py",
   "mimetype": "text/x-python",
   "name": "python",
   "nbconvert_exporter": "python",
   "pygments_lexer": "ipython3",
   "version": "3.11.0"
  },
  "vscode": {
   "interpreter": {
    "hash": "6018457a9cf31c4f12b198deda590ba24c2cc27a9da71629eaeb4f113d477133"
   }
  }
 },
 "nbformat": 4,
 "nbformat_minor": 5
}
