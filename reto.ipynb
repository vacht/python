{
 "cells": [
  {
   "cell_type": "code",
   "execution_count": 3,
   "id": "f508494d",
   "metadata": {},
   "outputs": [],
   "source": [
    "def nota_quices(c:str, n1: int, n2: int, n3: int, n4: int, n5:int)->str:\n",
    "\n",
    "    \n",
    "    \n",
    "    minima=min(n1, n2, n3, n4, n5)\n",
    "    \n",
    "    promedio= (n1 + n2 + n3 + n4 + n5)-(minima)\n",
    "    \n",
    "    promedio= (promedio)/4\n",
    "    promedio= ((promedio)*5) /100\n",
    "    promediofinal=round(promedio, 2)\n",
    "    \n",
    "    \n",
    "    return \"El promedio ajustado del estudiante \" + str(c) + \" es: \" + str(promediofinal)"
   ]
  }
 ],
 "metadata": {
  "kernelspec": {
   "display_name": "Python 3.9.12 ('base')",
   "language": "python",
   "name": "python3"
  },
  "language_info": {
   "codemirror_mode": {
    "name": "ipython",
    "version": 3
   },
   "file_extension": ".py",
   "mimetype": "text/x-python",
   "name": "python",
   "nbconvert_exporter": "python",
   "pygments_lexer": "ipython3",
   "version": "3.11.0"
  },
  "vscode": {
   "interpreter": {
    "hash": "6018457a9cf31c4f12b198deda590ba24c2cc27a9da71629eaeb4f113d477133"
   }
  }
 },
 "nbformat": 4,
 "nbformat_minor": 5
}
