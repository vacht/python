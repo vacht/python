{
 "cells": [
  {
   "cell_type": "code",
   "execution_count": 3,
   "id": "f508494d",
   "metadata": {},
   "outputs": [],
   "source": [
    "def nota_quices(c:str, n1: int, n2: int, n3: int, n4: int, n5:int)->str:\n",
    "\n",
    "    \n",
    "    \n",
    "    minima=min(n1, n2, n3, n4, n5)\n",
    "    \n",
    "    promedio= (n1 + n2 + n3 + n4 + n5)-(minima)\n",
    "    \n",
    "    promedio= (promedio)/4\n",
    "    promedio= ((promedio)*5) /100\n",
    "    promediofinal=round(promedio, 2)\n",
    "    \n",
    "    \n",
    "    return \"El promedio ajustado del estudiante \" + str(c) + \" es: \" + str(promediofinal)"
   ]
  },
  {
   "cell_type": "code",
   "execution_count": null,
   "id": "4fba7cf3",
   "metadata": {},
   "outputs": [],
   "source": [
    "num = int(input (\"ingrese numero\"))\n",
    "guardar=\"\"\n",
    "for elemento in range(0, num) :\n",
    "    if num < 11:\n",
    "        guardar+=str(elemento)\n",
    "        print(guardar)\n",
    "    if num > 11:\n",
    "        guardar+=str(elemento)\n",
    "        print(\"la suma es:\"+ str(guardar))"
   ]
  },
  {
   "cell_type": "code",
   "execution_count": null,
   "id": "1d7ff6bf",
   "metadata": {},
   "outputs": [],
   "source": [
    "import matplotlib.pyplot as plt\n",
    "import numpy as np\n",
    "\n",
    "# Precios y cantidades\n",
    "P = np.array([4, 8, 12, 16, 20])\n",
    "Qd = np.array([10000, 8000, 6000, 4000, 2000])\n",
    "Qo = np.full_like(P, 8000)\n",
    "\n",
    "# Gráfica\n",
    "plt.figure(figsize=(8, 6))\n",
    "plt.plot(P, Qd, label='Demanda', color='blue', linestyle='-')\n",
    "plt.plot(P, Qo, label='Oferta', color='red', linestyle='--')\n",
    "plt.xlabel('Precio')\n",
    "plt.ylabel('Cantidad')\n",
    "plt.title('Demanda y Oferta de Boletos')\n",
    "plt.legend()\n",
    "plt.grid(True)\n",
    "plt.show()\n"
   ]
  }
 ],
 "metadata": {
  "kernelspec": {
   "display_name": "Python 3.9.12 ('base')",
   "language": "python",
   "name": "python3"
  },
  "language_info": {
   "codemirror_mode": {
    "name": "ipython",
    "version": 3
   },
   "file_extension": ".py",
   "mimetype": "text/x-python",
   "name": "python",
   "nbconvert_exporter": "python",
   "pygments_lexer": "ipython3",
   "version": "3.11.0"
  },
  "vscode": {
   "interpreter": {
    "hash": "6018457a9cf31c4f12b198deda590ba24c2cc27a9da71629eaeb4f113d477133"
   }
  }
 },
 "nbformat": 4,
 "nbformat_minor": 5
}
