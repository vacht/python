{
 "cells": [
  {
   "cell_type": "code",
   "execution_count": 2,
   "id": "110e1c3a",
   "metadata": {},
   "outputs": [],
   "source": [
    "# sintaxis del ciclo for\n",
    "#for variable in serie valores:\n",
    "    #codigo\n",
    "    #codigo\n",
    "    #codigo"
   ]
  },
  {
   "cell_type": "code",
   "execution_count": 2,
   "id": "bcbe081e",
   "metadata": {},
   "outputs": [
    {
     "name": "stdout",
     "output_type": "stream",
     "text": [
      "estamos en la interaccion0\n",
      "estamos en la interaccion1\n",
      "estamos en la interaccion2\n"
     ]
    }
   ],
   "source": [
    "for x in range(0, 3):\n",
    "    print(\"estamos en la interaccion\" + str(x))"
   ]
  },
  {
   "cell_type": "code",
   "execution_count": 3,
   "id": "0dcc4c01",
   "metadata": {},
   "outputs": [
    {
     "name": "stdout",
     "output_type": "stream",
     "text": [
      "estamos en la interaccion0\n",
      "estamos en la interaccion2\n",
      "estamos en la interaccion4\n",
      "estamos en la interaccion6\n",
      "estamos en la interaccion8\n"
     ]
    }
   ],
   "source": [
    "for j in range(0, 10, 2):\n",
    "    print(\"estamos en la interaccion\" + str(j))"
   ]
  },
  {
   "cell_type": "code",
   "execution_count": 1,
   "id": "3502a923",
   "metadata": {},
   "outputs": [
    {
     "name": "stdout",
     "output_type": "stream",
     "text": [
      "la oracion analizada es: pablo entiende muy bien python .\n",
      "\n",
      "palabra: pablo, en la frase su posicion es: 0\n",
      "palabra: entiende, en la frase su posicion es: 1\n",
      "palabra: muy, en la frase su posicion es: 2\n",
      "palabra: bien, en la frase su posicion es: 3\n",
      "palabra: python, en la frase su posicion es: 4\n"
     ]
    }
   ],
   "source": [
    "oracion = \"pablo entiende muy bien python\"\n",
    "frases = oracion.split()#convierte a una lista cada palabra\n",
    "print(\"la oracion analizada es:\", oracion, \".\\n\")\n",
    "\n",
    "for palabra in range(len(frases)):\n",
    "    print(\"palabra: {0}, en la frase su posicion es: {1}\".format(frases[palabra], palabra))"
   ]
  },
  {
   "cell_type": "code",
   "execution_count": 2,
   "id": "7a9097a0",
   "metadata": {},
   "outputs": [
    {
     "name": "stdout",
     "output_type": "stream",
     "text": [
      "el valor es:  1, 2 y 3\n"
     ]
    }
   ],
   "source": [
    "print(\"el valor es:  {}, {} y {}\".format(1, 2, 3))"
   ]
  },
  {
   "cell_type": "code",
   "execution_count": 8,
   "id": "e371225a",
   "metadata": {},
   "outputs": [
    {
     "ename": "SyntaxError",
     "evalue": "positional argument follows keyword argument (4084758972.py, line 9)",
     "output_type": "error",
     "traceback": [
      "\u001b[1;36m  Cell \u001b[1;32mIn[8], line 9\u001b[1;36m\u001b[0m\n\u001b[1;33m    user=db_connection[2], db_name=db_connection[3]))\u001b[0m\n\u001b[1;37m                                                   ^\u001b[0m\n\u001b[1;31mSyntaxError\u001b[0m\u001b[1;31m:\u001b[0m positional argument follows keyword argument\n"
     ]
    }
   ],
   "source": [
    "db_connection = \"127.0.0.1\",\"5432\",\"root\",\"nomina\"\n",
    "\n",
    "for parametro in db_connection:\n",
    "    print(parametro)\n",
    "else:\n",
    "    print(\"\"\"El comando postgresSQL es:\n",
    "$ psql -h {sever} -p {port} -u {user} -d {db_name}\"\"\".format(\n",
    "        sever=db_connection[0], portdb_connection[1],\n",
    "        user=db_connection[2], db_name=db_connection[3]))"
   ]
  },
  {
   "cell_type": "code",
   "execution_count": 5,
   "id": "71a6d97a",
   "metadata": {},
   "outputs": [],
   "source": [
    "fruta = \"fresa\""
   ]
  },
  {
   "cell_type": "code",
   "execution_count": 6,
   "id": "1dc9b861",
   "metadata": {},
   "outputs": [],
   "source": [
    "letra = fruta[1]"
   ]
  },
  {
   "cell_type": "code",
   "execution_count": 7,
   "id": "c040df9a",
   "metadata": {},
   "outputs": [
    {
     "name": "stdout",
     "output_type": "stream",
     "text": [
      "r\n"
     ]
    }
   ],
   "source": [
    "print(letra)"
   ]
  },
  {
   "cell_type": "code",
   "execution_count": null,
   "id": "cade305b",
   "metadata": {},
   "outputs": [],
   "source": []
  }
 ],
 "metadata": {
  "kernelspec": {
   "display_name": "Python 3 (ipykernel)",
   "language": "python",
   "name": "python3"
  },
  "language_info": {
   "codemirror_mode": {
    "name": "ipython",
    "version": 3
   },
   "file_extension": ".py",
   "mimetype": "text/x-python",
   "name": "python",
   "nbconvert_exporter": "python",
   "pygments_lexer": "ipython3",
   "version": "3.11.0"
  }
 },
 "nbformat": 4,
 "nbformat_minor": 5
}
