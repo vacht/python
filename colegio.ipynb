{
 "cells": [
  {
   "cell_type": "code",
   "execution_count": 18,
   "id": "ea826ba1",
   "metadata": {},
   "outputs": [],
   "source": [
    "# integrantes del grupo:\n",
    "#simon snachez \n",
    "#miguel reyes\n",
    "#sebastian vallejo"
   ]
  },
  {
   "cell_type": "code",
   "execution_count": 19,
   "id": "f5c087db",
   "metadata": {},
   "outputs": [
    {
     "data": {
      "text/plain": [
       "5"
      ]
     },
     "execution_count": 19,
     "metadata": {},
     "output_type": "execute_result"
    }
   ],
   "source": [
    "2+3 #suma"
   ]
  },
  {
   "cell_type": "code",
   "execution_count": 2,
   "id": "7a1ca2ea",
   "metadata": {},
   "outputs": [
    {
     "data": {
      "text/plain": [
       "3"
      ]
     },
     "execution_count": 2,
     "metadata": {},
     "output_type": "execute_result"
    }
   ],
   "source": [
    "8-5 #resta"
   ]
  },
  {
   "cell_type": "code",
   "execution_count": 3,
   "id": "ecaea7e6",
   "metadata": {},
   "outputs": [
    {
     "data": {
      "text/plain": [
       "12"
      ]
     },
     "execution_count": 3,
     "metadata": {},
     "output_type": "execute_result"
    }
   ],
   "source": [
    "2*6 #multiplicacion"
   ]
  },
  {
   "cell_type": "code",
   "execution_count": 4,
   "id": "a7a5691b",
   "metadata": {},
   "outputs": [
    {
     "data": {
      "text/plain": [
       "4.0"
      ]
     },
     "execution_count": 4,
     "metadata": {},
     "output_type": "execute_result"
    }
   ],
   "source": [
    "12/3 #division"
   ]
  },
  {
   "cell_type": "code",
   "execution_count": 5,
   "id": "51007116",
   "metadata": {},
   "outputs": [
    {
     "data": {
      "text/plain": [
       "4"
      ]
     },
     "execution_count": 5,
     "metadata": {},
     "output_type": "execute_result"
    }
   ],
   "source": [
    "12//3 #division de enteros"
   ]
  },
  {
   "cell_type": "code",
   "execution_count": 6,
   "id": "aff51ae5",
   "metadata": {},
   "outputs": [
    {
     "data": {
      "text/plain": [
       "1"
      ]
     },
     "execution_count": 6,
     "metadata": {},
     "output_type": "execute_result"
    }
   ],
   "source": [
    "7 % 3 #modulo (retorna el remanente de la division)"
   ]
  },
  {
   "cell_type": "code",
   "execution_count": 11,
   "id": "1a6c447e",
   "metadata": {},
   "outputs": [
    {
     "name": "stdout",
     "output_type": "stream",
     "text": [
      "49\n"
     ]
    }
   ],
   "source": [
    "#cuadrado\n",
    "print(7 ** 2) #potencia al cuadrado"
   ]
  },
  {
   "cell_type": "code",
   "execution_count": 12,
   "id": "1c64c35f",
   "metadata": {},
   "outputs": [
    {
     "name": "stdout",
     "output_type": "stream",
     "text": [
      "8\n"
     ]
    }
   ],
   "source": [
    "#cubico \n",
    "print(2 ** 3) #potencia al cubo"
   ]
  },
  {
   "cell_type": "code",
   "execution_count": 14,
   "id": "e78b414b",
   "metadata": {},
   "outputs": [
    {
     "name": "stdout",
     "output_type": "stream",
     "text": [
      "1.4142135623730951\n"
     ]
    }
   ],
   "source": [
    "x=2\n",
    "print(x**(1/2)) #raiz cuadrada"
   ]
  },
  {
   "cell_type": "code",
   "execution_count": 17,
   "id": "030285cc",
   "metadata": {},
   "outputs": [
    {
     "name": "stdout",
     "output_type": "stream",
     "text": [
      "introduzca el valor: 8\n",
      "introduzca el valor: 5\n",
      "13\n",
      "3\n",
      "40\n",
      "1.6\n",
      "32768\n"
     ]
    }
   ],
   "source": [
    "num1 = int(input(\"introduzca el valor: \"))\n",
    "num2 = int(input(\"introduzca el valor: \"))\n",
    "print(num1+num2)\n",
    "print(num1-num2)\n",
    "print(num1*num2)\n",
    "print(num1/num2)\n",
    "print(num1**num2)"
   ]
  },
  {
   "cell_type": "code",
   "execution_count": null,
   "id": "ee632362",
   "metadata": {},
   "outputs": [],
   "source": []
  }
 ],
 "metadata": {
  "kernelspec": {
   "display_name": "Python 3 (ipykernel)",
   "language": "python",
   "name": "python3"
  },
  "language_info": {
   "codemirror_mode": {
    "name": "ipython",
    "version": 3
   },
   "file_extension": ".py",
   "mimetype": "text/x-python",
   "name": "python",
   "nbconvert_exporter": "python",
   "pygments_lexer": "ipython3",
   "version": "3.9.12"
  }
 },
 "nbformat": 4,
 "nbformat_minor": 5
}
