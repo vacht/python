{
 "cells": [
  {
   "cell_type": "code",
   "execution_count": null,
   "id": "e5be45d4",
   "metadata": {},
   "outputs": [],
   "source": [
    "#simon sanchez  A00405272"
   ]
  },
  {
   "cell_type": "code",
   "execution_count": 1,
   "metadata": {},
   "outputs": [
    {
     "name": "stdout",
     "output_type": "stream",
     "text": [
      "su nota individual es: 2.6\n",
      "su nota ponderada es: 2.8499999999999996\n",
      "Usted perdio la materia, su nota final es: 2.6\n"
     ]
    }
   ],
   "source": [
    "#Entradas\n",
    "\n",
    "nota1=float(input(\"Ingrese su nota del parcial 1\"))\n",
    "nota2=float(input(\"Ingrese su nota del parcial 2\"))\n",
    "nota3=float(input(\"Ingrese su nota del parcial 3\"))\n",
    "nota4=float(input(\"Ingrese su nota del examen practico 1\"))\n",
    "nota5=float(input(\"Ingrese su notar del examen practico 2\"))\n",
    "nota6=float(input(\"Ingrese su nota del componente gamificado\"))\n",
    "nota7=float(input(\"Ingrese su nota del proyecto final\"))\n",
    "\n",
    "promedio_individual=(float(nota1+nota2+nota3+nota4+nota5)/5)\n",
    "print(f\"su nota individual es: {promedio_individual}\")\n",
    "promedio_ponderado=(float(nota1*0.1+nota2*0.15+nota3*0.25+nota4*0.075+nota5*0.075+nota6*0.25+nota7*0.1))\n",
    "print(f\"su nota ponderada es: {promedio_ponderado}\")\n",
    "\n",
    "#Salidas \n",
    "\n",
    "\n",
    "if promedio_individual < 3:\n",
    "    print(f\"Usted perdio la materia, su nota final es: {promedio_individual}\")\n",
    "elif promedio_ponderado < 3:\n",
    "    print(f\"Usted perdio la materia, su nota final es: {promedio_ponderado}\")\n",
    "else:\n",
    "    print(f\"Usted ganó la materia, su nota final es: {promedio_ponderado}\")"
   ]
  }
 ],
 "metadata": {
  "kernelspec": {
   "display_name": "Python 3.9.12 ('base')",
   "language": "python",
   "name": "python3"
  },
  "language_info": {
   "codemirror_mode": {
    "name": "ipython",
    "version": 3
   },
   "file_extension": ".py",
   "mimetype": "text/x-python",
   "name": "python",
   "nbconvert_exporter": "python",
   "pygments_lexer": "ipython3",
   "version": "3.11.0"
  },
  "vscode": {
   "interpreter": {
    "hash": "6018457a9cf31c4f12b198deda590ba24c2cc27a9da71629eaeb4f113d477133"
   }
  }
 },
 "nbformat": 4,
 "nbformat_minor": 5
}
